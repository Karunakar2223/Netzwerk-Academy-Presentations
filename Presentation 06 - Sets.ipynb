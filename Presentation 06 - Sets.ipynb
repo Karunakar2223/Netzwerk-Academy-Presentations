{
 "cells": [
  {
   "cell_type": "markdown",
   "id": "c67f93ac",
   "metadata": {},
   "source": [
    "# Sets"
   ]
  },
  {
   "cell_type": "markdown",
   "id": "7547e9da",
   "metadata": {},
   "source": [
    "#In python, sets are written in curly/flower brackets.\n",
    "\n",
    "#Can store different data types\n",
    "\n",
    "#Duplicate values are not allowed\n",
    "\n",
    "#Order is not retained\n",
    "\n",
    "#Indexing and slicing is not possible"
   ]
  },
  {
   "cell_type": "code",
   "execution_count": 1,
   "id": "4d853541",
   "metadata": {},
   "outputs": [
    {
     "name": "stdout",
     "output_type": "stream",
     "text": [
      "{False, True, 2, 4, 6, 8, 10, 12, 14, 16, 'Netzwerk'}\n",
      "<class 'set'>\n"
     ]
    }
   ],
   "source": [
    "set1 ={2,4,6,8,10,12,14,16,True,False,\"Netzwerk\"}\n",
    "print(set1)\n",
    "print(type(set1))"
   ]
  },
  {
   "cell_type": "code",
   "execution_count": 2,
   "id": "9c9da95a",
   "metadata": {},
   "outputs": [
    {
     "data": {
      "text/plain": [
       "11"
      ]
     },
     "execution_count": 2,
     "metadata": {},
     "output_type": "execute_result"
    }
   ],
   "source": [
    "len(set1)"
   ]
  },
  {
   "cell_type": "code",
   "execution_count": 3,
   "id": "78030b10",
   "metadata": {
    "scrolled": true
   },
   "outputs": [
    {
     "name": "stdout",
     "output_type": "stream",
     "text": [
      "{'Netzwerk', True, 22, 23}\n"
     ]
    }
   ],
   "source": [
    "set2={22,23,22,\"Netzwerk\",True,\"Netzwerk\"}\n",
    "print(set2)"
   ]
  },
  {
   "cell_type": "code",
   "execution_count": 4,
   "id": "65dfe131",
   "metadata": {},
   "outputs": [
    {
     "name": "stdout",
     "output_type": "stream",
     "text": [
      "{'KTM', 'Enfield', 200, 'Duke', 22}\n"
     ]
    }
   ],
   "source": [
    "set3={\"KTM\",22,\"Duke\",200,\"Enfield\"}\n",
    "print(set3)"
   ]
  },
  {
   "cell_type": "code",
   "execution_count": 5,
   "id": "5fd0c62b",
   "metadata": {},
   "outputs": [
    {
     "ename": "TypeError",
     "evalue": "'set' object is not subscriptable",
     "output_type": "error",
     "traceback": [
      "\u001b[1;31m---------------------------------------------------------------------------\u001b[0m",
      "\u001b[1;31mTypeError\u001b[0m                                 Traceback (most recent call last)",
      "\u001b[1;32m<ipython-input-5-4adf3b61d906>\u001b[0m in \u001b[0;36m<module>\u001b[1;34m\u001b[0m\n\u001b[0;32m      1\u001b[0m \u001b[1;31m# Indexing and Slicing is not possible in Sets.\u001b[0m\u001b[1;33m\u001b[0m\u001b[1;33m\u001b[0m\u001b[1;33m\u001b[0m\u001b[0m\n\u001b[0;32m      2\u001b[0m \u001b[1;33m\u001b[0m\u001b[0m\n\u001b[1;32m----> 3\u001b[1;33m \u001b[0mset1\u001b[0m\u001b[1;33m[\u001b[0m\u001b[1;36m0\u001b[0m\u001b[1;33m]\u001b[0m\u001b[1;33m\u001b[0m\u001b[1;33m\u001b[0m\u001b[0m\n\u001b[0m",
      "\u001b[1;31mTypeError\u001b[0m: 'set' object is not subscriptable"
     ]
    }
   ],
   "source": [
    "# Indexing and Slicing is not possible in Sets.\n",
    "\n",
    "set1[0]"
   ]
  },
  {
   "cell_type": "markdown",
   "id": "3391d71c",
   "metadata": {},
   "source": [
    "# Empty set"
   ]
  },
  {
   "cell_type": "code",
   "execution_count": 6,
   "id": "3a7e9e1c",
   "metadata": {},
   "outputs": [
    {
     "name": "stdout",
     "output_type": "stream",
     "text": [
      "<class 'dict'>\n"
     ]
    }
   ],
   "source": [
    "set4 = {}\n",
    "set4\n",
    "print(type(set4))"
   ]
  },
  {
   "cell_type": "code",
   "execution_count": 7,
   "id": "b530229f",
   "metadata": {},
   "outputs": [
    {
     "data": {
      "text/plain": [
       "set"
      ]
     },
     "execution_count": 7,
     "metadata": {},
     "output_type": "execute_result"
    }
   ],
   "source": [
    "set4 = set()\n",
    "type(set4)"
   ]
  },
  {
   "cell_type": "markdown",
   "id": "5a9c1f83",
   "metadata": {},
   "source": [
    "# Mutability"
   ]
  },
  {
   "cell_type": "code",
   "execution_count": 8,
   "id": "eaffa51f",
   "metadata": {},
   "outputs": [
    {
     "data": {
      "text/plain": [
       "{200, 22, 'Classic', 'Duke', 'Enfield', 'KTM'}"
      ]
     },
     "execution_count": 8,
     "metadata": {},
     "output_type": "execute_result"
    }
   ],
   "source": [
    "# Once you created the set you can add and remove elements from set, but cannot modify the existing element in the set.\n",
    "\n",
    "set3={\"KTM\",22,\"Duke\",200,\"Enfield\"}\n",
    "\n",
    "# Add item to the set3\n",
    "set3.add(\"Classic\")\n",
    "set3"
   ]
  },
  {
   "cell_type": "code",
   "execution_count": 9,
   "id": "c68054cb",
   "metadata": {},
   "outputs": [
    {
     "data": {
      "text/plain": [
       "{1, 2, 200, 22, 3, 'Classic', 'Duke', 'Enfield', 'KTM'}"
      ]
     },
     "execution_count": 9,
     "metadata": {},
     "output_type": "execute_result"
    }
   ],
   "source": [
    "# .Update(list)\n",
    "set3.update([1,2,3])\n",
    "set3"
   ]
  },
  {
   "cell_type": "code",
   "execution_count": 10,
   "id": "de94f730",
   "metadata": {},
   "outputs": [
    {
     "data": {
      "text/plain": [
       "{1, 2, 200, 22, 3, 'Classic', 'Duke', 'Enfield', 'KTM'}"
      ]
     },
     "execution_count": 10,
     "metadata": {},
     "output_type": "execute_result"
    }
   ],
   "source": [
    "# .copy() method\n",
    "\n",
    "set3.copy()\n",
    "set3"
   ]
  },
  {
   "cell_type": "markdown",
   "id": "85f559e2",
   "metadata": {},
   "source": [
    "# Removing items"
   ]
  },
  {
   "cell_type": "code",
   "execution_count": 11,
   "id": "4efcf72a",
   "metadata": {},
   "outputs": [
    {
     "data": {
      "text/plain": [
       "{1, 2, 3, 4, 5, 6, 7, 8}"
      ]
     },
     "execution_count": 11,
     "metadata": {},
     "output_type": "execute_result"
    }
   ],
   "source": [
    "# .remove(item) = removes specified item from set, if specified item is not present it will give error.\n",
    "\n",
    "set5 = {1,2,3,4,5,6,7,8,9}\n",
    "set5.remove(9)\n",
    "set5"
   ]
  },
  {
   "cell_type": "code",
   "execution_count": 12,
   "id": "dfe093c5",
   "metadata": {},
   "outputs": [
    {
     "ename": "KeyError",
     "evalue": "10",
     "output_type": "error",
     "traceback": [
      "\u001b[1;31m---------------------------------------------------------------------------\u001b[0m",
      "\u001b[1;31mKeyError\u001b[0m                                  Traceback (most recent call last)",
      "\u001b[1;32m<ipython-input-12-9b3ec3fd2100>\u001b[0m in \u001b[0;36m<module>\u001b[1;34m\u001b[0m\n\u001b[1;32m----> 1\u001b[1;33m \u001b[0mset5\u001b[0m\u001b[1;33m.\u001b[0m\u001b[0mremove\u001b[0m\u001b[1;33m(\u001b[0m\u001b[1;36m10\u001b[0m\u001b[1;33m)\u001b[0m\u001b[1;33m\u001b[0m\u001b[1;33m\u001b[0m\u001b[0m\n\u001b[0m\u001b[0;32m      2\u001b[0m \u001b[0mset5\u001b[0m\u001b[1;33m\u001b[0m\u001b[1;33m\u001b[0m\u001b[0m\n",
      "\u001b[1;31mKeyError\u001b[0m: 10"
     ]
    }
   ],
   "source": [
    "set5.remove(10)\n",
    "set5"
   ]
  },
  {
   "cell_type": "code",
   "execution_count": 13,
   "id": "4ca54e11",
   "metadata": {},
   "outputs": [
    {
     "data": {
      "text/plain": [
       "{1, 2, 3, 5, 6, 7, 8}"
      ]
     },
     "execution_count": 13,
     "metadata": {},
     "output_type": "execute_result"
    }
   ],
   "source": [
    "# .Discard(item) = discard the specified item from set, if the item is not present then also it will not give error.\n",
    "set5.discard(4)\n",
    "set5"
   ]
  },
  {
   "cell_type": "code",
   "execution_count": 14,
   "id": "87fc9a7b",
   "metadata": {},
   "outputs": [
    {
     "data": {
      "text/plain": [
       "{1, 2, 3, 5, 6, 7, 8}"
      ]
     },
     "execution_count": 14,
     "metadata": {},
     "output_type": "execute_result"
    }
   ],
   "source": [
    "set5.discard(0)\n",
    "set5"
   ]
  },
  {
   "cell_type": "code",
   "execution_count": 15,
   "id": "58ef2177",
   "metadata": {},
   "outputs": [
    {
     "data": {
      "text/plain": [
       "{2, 3, 5, 6, 7, 8}"
      ]
     },
     "execution_count": 15,
     "metadata": {},
     "output_type": "execute_result"
    }
   ],
   "source": [
    "# .pop() = sets are unordered, when pop method is used,we will not know which item is going to be removed.\n",
    "set5.pop()\n",
    "set5"
   ]
  },
  {
   "cell_type": "code",
   "execution_count": 16,
   "id": "d689f02d",
   "metadata": {},
   "outputs": [
    {
     "data": {
      "text/plain": [
       "{3, 5, 6, 7, 8}"
      ]
     },
     "execution_count": 16,
     "metadata": {},
     "output_type": "execute_result"
    }
   ],
   "source": [
    "set5.pop()\n",
    "set5"
   ]
  },
  {
   "cell_type": "code",
   "execution_count": 17,
   "id": "2068e81f",
   "metadata": {},
   "outputs": [
    {
     "name": "stdout",
     "output_type": "stream",
     "text": [
      "{'b', 'a'}\n",
      "{'e'}\n"
     ]
    }
   ],
   "source": [
    "# \"go through other inbuilt methods like\"\n",
    "# 1)difference() \n",
    "A={'a','b','c','d'}\n",
    "B={'c','d','e'}\n",
    "print(A.difference(B))\n",
    "print(B.difference(A))"
   ]
  },
  {
   "cell_type": "code",
   "execution_count": 18,
   "id": "1330e8fe",
   "metadata": {},
   "outputs": [
    {
     "name": "stdout",
     "output_type": "stream",
     "text": [
      "{'b', 'e', 'a'}\n",
      "{'e', 'a', 'b'}\n"
     ]
    }
   ],
   "source": [
    "# 2) symmetric_difference()\n",
    "A={'a','b','c','d'}\n",
    "B={'c','d','e'}\n",
    "print(A.symmetric_difference(B))\n",
    "print(B.symmetric_difference(A))"
   ]
  },
  {
   "cell_type": "code",
   "execution_count": null,
   "id": "38d582f6",
   "metadata": {},
   "outputs": [],
   "source": []
  }
 ],
 "metadata": {
  "kernelspec": {
   "display_name": "Python 3",
   "language": "python",
   "name": "python3"
  },
  "language_info": {
   "codemirror_mode": {
    "name": "ipython",
    "version": 3
   },
   "file_extension": ".py",
   "mimetype": "text/x-python",
   "name": "python",
   "nbconvert_exporter": "python",
   "pygments_lexer": "ipython3",
   "version": "3.8.8"
  }
 },
 "nbformat": 4,
 "nbformat_minor": 5
}
