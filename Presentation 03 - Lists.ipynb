{
 "cells": [
  {
   "cell_type": "markdown",
   "id": "4c584bbb",
   "metadata": {},
   "source": [
    "# Lists"
   ]
  },
  {
   "cell_type": "code",
   "execution_count": 2,
   "id": "9e345e7f",
   "metadata": {},
   "outputs": [],
   "source": [
    "# written in square brackets [].\n",
    "\n",
    "# ordered sequence of objects which store different datatypes.\n",
    "\n",
    "# mutable.\n",
    "\n",
    "# indexing and slicing is possible.\n",
    "\n",
    "list1=[\"reddy\",222.3,\"netzwerk\",'Banglore', True]"
   ]
  },
  {
   "cell_type": "code",
   "execution_count": 3,
   "id": "abfd9451",
   "metadata": {},
   "outputs": [
    {
     "data": {
      "text/plain": [
       "['reddy', 222.3, 'netzwerk', 'Banglore', True]"
      ]
     },
     "execution_count": 3,
     "metadata": {},
     "output_type": "execute_result"
    }
   ],
   "source": [
    "list1"
   ]
  },
  {
   "cell_type": "code",
   "execution_count": 4,
   "id": "a3ed4ec5",
   "metadata": {},
   "outputs": [],
   "source": [
    "list2 = [22,12,97,2223]"
   ]
  },
  {
   "cell_type": "code",
   "execution_count": null,
   "id": "8183d57b",
   "metadata": {},
   "outputs": [],
   "source": [
    "list2"
   ]
  },
  {
   "cell_type": "code",
   "execution_count": 5,
   "id": "725fe1ea",
   "metadata": {},
   "outputs": [
    {
     "data": {
      "text/plain": [
       "list"
      ]
     },
     "execution_count": 5,
     "metadata": {},
     "output_type": "execute_result"
    }
   ],
   "source": [
    "# data type\n",
    "type(list1)"
   ]
  },
  {
   "cell_type": "code",
   "execution_count": 6,
   "id": "3430dbff",
   "metadata": {},
   "outputs": [
    {
     "data": {
      "text/plain": [
       "5"
      ]
     },
     "execution_count": 6,
     "metadata": {},
     "output_type": "execute_result"
    }
   ],
   "source": [
    "#len()\n",
    "len(list1)"
   ]
  },
  {
   "cell_type": "markdown",
   "id": "03c9fd4c",
   "metadata": {},
   "source": [
    "# Indexing"
   ]
  },
  {
   "cell_type": "code",
   "execution_count": 7,
   "id": "366ad241",
   "metadata": {},
   "outputs": [
    {
     "data": {
      "text/plain": [
       "'reddy'"
      ]
     },
     "execution_count": 7,
     "metadata": {},
     "output_type": "execute_result"
    }
   ],
   "source": [
    "# It starts from '0'\n",
    "\n",
    "list1=[\"reddy\",222.3,\"netzwerk\",'Banglore', True]\n",
    "list1[0]"
   ]
  },
  {
   "cell_type": "code",
   "execution_count": 8,
   "id": "4b0e2f45",
   "metadata": {},
   "outputs": [
    {
     "data": {
      "text/plain": [
       "True"
      ]
     },
     "execution_count": 8,
     "metadata": {},
     "output_type": "execute_result"
    }
   ],
   "source": [
    "list1[4]"
   ]
  },
  {
   "cell_type": "markdown",
   "id": "15f0ba02",
   "metadata": {},
   "source": [
    "# Slicing"
   ]
  },
  {
   "cell_type": "code",
   "execution_count": 9,
   "id": "ea76d480",
   "metadata": {},
   "outputs": [
    {
     "data": {
      "text/plain": [
       "[1, 3, 5, 7, 9]"
      ]
     },
     "execution_count": 9,
     "metadata": {},
     "output_type": "execute_result"
    }
   ],
   "source": [
    "# [start:stop:step]\n",
    "\n",
    "# alternate elements\n",
    "\n",
    "list1 = [1,2,3,4,5,6,7,8,9]\n",
    "list1[::2]"
   ]
  },
  {
   "cell_type": "code",
   "execution_count": 10,
   "id": "9f7cdf39",
   "metadata": {},
   "outputs": [
    {
     "data": {
      "text/plain": [
       "[7, 8, 9]"
      ]
     },
     "execution_count": 10,
     "metadata": {},
     "output_type": "execute_result"
    }
   ],
   "source": [
    "# to get last three elements\n",
    "list1[-3:]"
   ]
  },
  {
   "cell_type": "code",
   "execution_count": 11,
   "id": "42985e78",
   "metadata": {},
   "outputs": [],
   "source": [
    "# Mutable\n",
    "list1 = [10,22,29,35,39,40,45,50,55]\n",
    "list1[0]=20"
   ]
  },
  {
   "cell_type": "code",
   "execution_count": 12,
   "id": "d9649ffe",
   "metadata": {},
   "outputs": [
    {
     "data": {
      "text/plain": [
       "[20, 22, 29, 35, 39, 40, 45, 50, 55]"
      ]
     },
     "execution_count": 12,
     "metadata": {},
     "output_type": "execute_result"
    }
   ],
   "source": [
    "list1"
   ]
  },
  {
   "cell_type": "markdown",
   "id": "76a70549",
   "metadata": {},
   "source": [
    "# Some built in functions"
   ]
  },
  {
   "cell_type": "code",
   "execution_count": 13,
   "id": "8f3bcb07",
   "metadata": {},
   "outputs": [],
   "source": [
    "#create a list\n",
    "\n",
    "list1=[1,2,3,4,5]\n",
    "\n",
    "# using .append()\n",
    "\n",
    "list1.append('Reddy')"
   ]
  },
  {
   "cell_type": "code",
   "execution_count": 14,
   "id": "00060013",
   "metadata": {},
   "outputs": [
    {
     "data": {
      "text/plain": [
       "[1, 2, 3, 4, 5, 'Reddy']"
      ]
     },
     "execution_count": 14,
     "metadata": {},
     "output_type": "execute_result"
    }
   ],
   "source": [
    "list1"
   ]
  },
  {
   "cell_type": "code",
   "execution_count": 17,
   "id": "4050e4bd",
   "metadata": {},
   "outputs": [
    {
     "data": {
      "text/plain": [
       "[3, 4, 'Reddy']"
      ]
     },
     "execution_count": 17,
     "metadata": {},
     "output_type": "execute_result"
    }
   ],
   "source": [
    "# using pop()\n",
    "list1.pop(2)\n",
    "list1"
   ]
  },
  {
   "cell_type": "code",
   "execution_count": 18,
   "id": "1d127f56",
   "metadata": {},
   "outputs": [
    {
     "name": "stdout",
     "output_type": "stream",
     "text": [
      "[]\n"
     ]
    }
   ],
   "source": [
    "# using clear()\n",
    "list1.clear()\n",
    "print(list1)"
   ]
  },
  {
   "cell_type": "code",
   "execution_count": 26,
   "id": "6d947bec",
   "metadata": {},
   "outputs": [],
   "source": [
    "new_list = ['4','5','1','2','3']"
   ]
  },
  {
   "cell_type": "code",
   "execution_count": 27,
   "id": "42533c33",
   "metadata": {},
   "outputs": [
    {
     "data": {
      "text/plain": [
       "['4', '5', '1', '2', '3']"
      ]
     },
     "execution_count": 27,
     "metadata": {},
     "output_type": "execute_result"
    }
   ],
   "source": [
    "#show\n",
    "new_list"
   ]
  },
  {
   "cell_type": "code",
   "execution_count": 28,
   "id": "bc7eb8ac",
   "metadata": {},
   "outputs": [
    {
     "data": {
      "text/plain": [
       "['3', '2', '1', '5', '4']"
      ]
     },
     "execution_count": 28,
     "metadata": {},
     "output_type": "execute_result"
    }
   ],
   "source": [
    "# reverse method\n",
    "new_list.reverse()\n",
    "new_list"
   ]
  },
  {
   "cell_type": "code",
   "execution_count": 29,
   "id": "ffc3e56d",
   "metadata": {},
   "outputs": [
    {
     "data": {
      "text/plain": [
       "['1', '2', '3', '4', '5']"
      ]
     },
     "execution_count": 29,
     "metadata": {},
     "output_type": "execute_result"
    }
   ],
   "source": [
    "# sort method\n",
    "new_list.sort()\n",
    "new_list"
   ]
  },
  {
   "cell_type": "code",
   "execution_count": 25,
   "id": "dc8ec06e",
   "metadata": {},
   "outputs": [
    {
     "name": "stdout",
     "output_type": "stream",
     "text": [
      "[10, 20, [30, 40, [50, 60, 70], 80], 90, 100]\n"
     ]
    }
   ],
   "source": [
    "#Add item 70 after 60 in the following python list\n",
    "    \n",
    "l1 =  [10,20,[30,40,[50,60],80],90,100]  \n",
    "l1[2][2] = [50,60,70]\n",
    "print (l1)"
   ]
  },
  {
   "cell_type": "code",
   "execution_count": null,
   "id": "90597b8c",
   "metadata": {},
   "outputs": [],
   "source": []
  }
 ],
 "metadata": {
  "kernelspec": {
   "display_name": "Python 3",
   "language": "python",
   "name": "python3"
  },
  "language_info": {
   "codemirror_mode": {
    "name": "ipython",
    "version": 3
   },
   "file_extension": ".py",
   "mimetype": "text/x-python",
   "name": "python",
   "nbconvert_exporter": "python",
   "pygments_lexer": "ipython3",
   "version": "3.8.8"
  }
 },
 "nbformat": 4,
 "nbformat_minor": 5
}
