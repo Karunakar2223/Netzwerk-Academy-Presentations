{
 "cells": [
  {
   "cell_type": "markdown",
   "id": "3c2028ef",
   "metadata": {},
   "source": [
    "# Lambda Functions\n",
    "\n",
    "A lambda function is a small anonymous function.\n",
    "\n",
    "A lambda function can take any number of arguments, but can only have one expression.\n",
    "\n",
    "They are mostly used along with map and filter functions"
   ]
  },
  {
   "cell_type": "code",
   "execution_count": null,
   "id": "4e85ad3a",
   "metadata": {},
   "outputs": [],
   "source": [
    "# Syntax\n",
    "# lambda arguments : expression"
   ]
  },
  {
   "cell_type": "code",
   "execution_count": 1,
   "id": "6cc9d7ef",
   "metadata": {},
   "outputs": [
    {
     "data": {
      "text/plain": [
       "25"
      ]
     },
     "execution_count": 1,
     "metadata": {},
     "output_type": "execute_result"
    }
   ],
   "source": [
    "# Ex1) Squaring a number\n",
    "# with one argument\n",
    "\n",
    "# normal function\n",
    "def square(num):\n",
    "    return num**2\n",
    "\n",
    "square(5)"
   ]
  },
  {
   "cell_type": "code",
   "execution_count": 2,
   "id": "87914dca",
   "metadata": {},
   "outputs": [],
   "source": [
    "# lambda functions\n",
    "square = lambda num:num**2"
   ]
  },
  {
   "cell_type": "code",
   "execution_count": 3,
   "id": "7aaa227b",
   "metadata": {},
   "outputs": [
    {
     "data": {
      "text/plain": [
       "25"
      ]
     },
     "execution_count": 3,
     "metadata": {},
     "output_type": "execute_result"
    }
   ],
   "source": [
    "square(5)"
   ]
  },
  {
   "cell_type": "code",
   "execution_count": 4,
   "id": "a5d79b59",
   "metadata": {},
   "outputs": [
    {
     "data": {
      "text/plain": [
       "30"
      ]
     },
     "execution_count": 4,
     "metadata": {},
     "output_type": "execute_result"
    }
   ],
   "source": [
    "# Ex2) adding multiple numbers\n",
    "# with multiple arguments\n",
    "# normal function\n",
    "def add(x,y,z):\n",
    "    return x + y + z\n",
    "\n",
    "add(5,10,15)"
   ]
  },
  {
   "cell_type": "code",
   "execution_count": 5,
   "id": "bddeed99",
   "metadata": {},
   "outputs": [],
   "source": [
    "# lambda function\n",
    "add = lambda x,y,z : x + y + z"
   ]
  },
  {
   "cell_type": "code",
   "execution_count": 6,
   "id": "2edc9e51",
   "metadata": {},
   "outputs": [
    {
     "data": {
      "text/plain": [
       "30"
      ]
     },
     "execution_count": 6,
     "metadata": {},
     "output_type": "execute_result"
    }
   ],
   "source": [
    "add(5,10,15)"
   ]
  },
  {
   "cell_type": "markdown",
   "id": "7abe7a11",
   "metadata": {},
   "source": [
    "\n",
    "# Map function\n",
    "\n",
    "The map function allows you to \"map\" a function to an iterable object.\n",
    "\n",
    "It returns map object"
   ]
  },
  {
   "cell_type": "code",
   "execution_count": null,
   "id": "43bd6b89",
   "metadata": {},
   "outputs": [],
   "source": [
    "\"\"\"\n",
    "about map function\n",
    "\n",
    "syntax ---->\n",
    "map(function,sequence)\n",
    "\n",
    "it applies the function to all the elements in the sequences \n",
    "\n",
    "returns the map object\n",
    "\"\"\""
   ]
  },
  {
   "cell_type": "code",
   "execution_count": 7,
   "id": "132e911f",
   "metadata": {},
   "outputs": [],
   "source": [
    "# Ex1) Square all the elements of a list using map function\n",
    "# sequence\n",
    "my_nums = [1,2,3,4,5]"
   ]
  },
  {
   "cell_type": "code",
   "execution_count": 8,
   "id": "5288dff2",
   "metadata": {},
   "outputs": [],
   "source": [
    "#function to square a number\n",
    "def square(num):\n",
    "    return num**2"
   ]
  },
  {
   "cell_type": "code",
   "execution_count": 9,
   "id": "a9b96787",
   "metadata": {},
   "outputs": [
    {
     "data": {
      "text/plain": [
       "<map at 0x2465e088280>"
      ]
     },
     "execution_count": 9,
     "metadata": {},
     "output_type": "execute_result"
    }
   ],
   "source": [
    "#map\n",
    "map(square,my_nums)"
   ]
  },
  {
   "cell_type": "code",
   "execution_count": 10,
   "id": "946a1293",
   "metadata": {},
   "outputs": [
    {
     "name": "stdout",
     "output_type": "stream",
     "text": [
      "1\n",
      "4\n",
      "9\n",
      "16\n",
      "25\n"
     ]
    }
   ],
   "source": [
    "# To get the results, either iterate through mapobj \n",
    "for item in map(square,my_nums):\n",
    "    print(item)"
   ]
  },
  {
   "cell_type": "code",
   "execution_count": 11,
   "id": "b86903b4",
   "metadata": {},
   "outputs": [
    {
     "data": {
      "text/plain": [
       "[1, 4, 9, 16, 25]"
      ]
     },
     "execution_count": 11,
     "metadata": {},
     "output_type": "execute_result"
    }
   ],
   "source": [
    " #or just convert to a list\n",
    "list(map(square,my_nums))"
   ]
  },
  {
   "cell_type": "code",
   "execution_count": 12,
   "id": "3a5a27db",
   "metadata": {},
   "outputs": [],
   "source": [
    "# Ex2) even or odd numbers\n",
    "#sequence\n",
    "my_nums = [1,2,3,4,5]"
   ]
  },
  {
   "cell_type": "code",
   "execution_count": 13,
   "id": "d871624e",
   "metadata": {},
   "outputs": [],
   "source": [
    "#function\n",
    "def even_odd(num):\n",
    "    if(num%2==0):\n",
    "        return 'even'\n",
    "    else:\n",
    "        return 'odd'"
   ]
  },
  {
   "cell_type": "code",
   "execution_count": 14,
   "id": "9dcdac25",
   "metadata": {},
   "outputs": [
    {
     "data": {
      "text/plain": [
       "['odd', 'even', 'odd', 'even', 'odd']"
      ]
     },
     "execution_count": 14,
     "metadata": {},
     "output_type": "execute_result"
    }
   ],
   "source": [
    "list(map(even_odd,my_nums))  #['odd','even','odd','even','odd']"
   ]
  },
  {
   "cell_type": "code",
   "execution_count": null,
   "id": "2532d900",
   "metadata": {},
   "outputs": [],
   "source": []
  }
 ],
 "metadata": {
  "kernelspec": {
   "display_name": "Python 3",
   "language": "python",
   "name": "python3"
  },
  "language_info": {
   "codemirror_mode": {
    "name": "ipython",
    "version": 3
   },
   "file_extension": ".py",
   "mimetype": "text/x-python",
   "name": "python",
   "nbconvert_exporter": "python",
   "pygments_lexer": "ipython3",
   "version": "3.8.8"
  }
 },
 "nbformat": 4,
 "nbformat_minor": 5
}
