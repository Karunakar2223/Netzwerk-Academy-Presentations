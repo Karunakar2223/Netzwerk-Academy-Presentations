{
 "cells": [
  {
   "cell_type": "markdown",
   "id": "e460cdc4",
   "metadata": {},
   "source": [
    "# BASIC DATA TYPES IN PYTHON."
   ]
  },
  {
   "cell_type": "code",
   "execution_count": 1,
   "id": "1f9fe611",
   "metadata": {},
   "outputs": [
    {
     "name": "stdout",
     "output_type": "stream",
     "text": [
      "22\n",
      "23\n"
     ]
    }
   ],
   "source": [
    "# Numbers.\n",
    "\n",
    "# 1) Integers 2)Floating point\n",
    "\n",
    "# This are used for doing math operation on it.\n",
    "\n",
    "# Intergers\n",
    "\n",
    "print(22)\n",
    "print(23)"
   ]
  },
  {
   "cell_type": "code",
   "execution_count": null,
   "id": "cb312828",
   "metadata": {},
   "outputs": [],
   "source": [
    "print(-22)"
   ]
  },
  {
   "cell_type": "code",
   "execution_count": 2,
   "id": "19e7bd92",
   "metadata": {},
   "outputs": [
    {
     "data": {
      "text/plain": [
       "int"
      ]
     },
     "execution_count": 2,
     "metadata": {},
     "output_type": "execute_result"
    }
   ],
   "source": [
    "type(22)"
   ]
  },
  {
   "cell_type": "code",
   "execution_count": null,
   "id": "ffd6197e",
   "metadata": {},
   "outputs": [],
   "source": [
    "type(-22)"
   ]
  },
  {
   "cell_type": "code",
   "execution_count": 3,
   "id": "0cabae7b",
   "metadata": {},
   "outputs": [
    {
     "name": "stdout",
     "output_type": "stream",
     "text": [
      "22.23\n"
     ]
    }
   ],
   "source": [
    "# float\n",
    "\n",
    "print(22.23)"
   ]
  },
  {
   "cell_type": "code",
   "execution_count": null,
   "id": "b0e9d41d",
   "metadata": {},
   "outputs": [],
   "source": [
    "print(0.00)"
   ]
  },
  {
   "cell_type": "code",
   "execution_count": 4,
   "id": "965099cb",
   "metadata": {},
   "outputs": [
    {
     "data": {
      "text/plain": [
       "float"
      ]
     },
     "execution_count": 4,
     "metadata": {},
     "output_type": "execute_result"
    }
   ],
   "source": [
    "type(0.00)"
   ]
  },
  {
   "cell_type": "markdown",
   "id": "3a717982",
   "metadata": {},
   "source": [
    "# Booleans.\n",
    "\n",
    "Logical values that indicates True or False"
   ]
  },
  {
   "cell_type": "code",
   "execution_count": 5,
   "id": "2d4a4617",
   "metadata": {},
   "outputs": [
    {
     "data": {
      "text/plain": [
       "bool"
      ]
     },
     "execution_count": 5,
     "metadata": {},
     "output_type": "execute_result"
    }
   ],
   "source": [
    "# True or False\n",
    "\n",
    "a=True\n",
    "type(a) #print(type(True))"
   ]
  },
  {
   "cell_type": "code",
   "execution_count": 6,
   "id": "dc75298a",
   "metadata": {},
   "outputs": [
    {
     "name": "stdout",
     "output_type": "stream",
     "text": [
      "<class 'bool'>\n"
     ]
    }
   ],
   "source": [
    "b=False\n",
    "print(type(b))"
   ]
  },
  {
   "cell_type": "code",
   "execution_count": 7,
   "id": "1fd879d6",
   "metadata": {},
   "outputs": [
    {
     "name": "stdout",
     "output_type": "stream",
     "text": [
      "<class 'int'>\n"
     ]
    }
   ],
   "source": [
    "x=22\n",
    "print(type(x))"
   ]
  },
  {
   "cell_type": "markdown",
   "id": "6b3ff568",
   "metadata": {},
   "source": [
    "# Strings.\n",
    "\n",
    ".Ordered sequence of characters that are enclosed with in single and double quotes."
   ]
  },
  {
   "cell_type": "code",
   "execution_count": 8,
   "id": "704fda6f",
   "metadata": {},
   "outputs": [
    {
     "name": "stdout",
     "output_type": "stream",
     "text": [
      "Reddy\n",
      "2223\n"
     ]
    }
   ],
   "source": [
    "# Single quotes('')\n",
    "\n",
    "a='Reddy'\n",
    "print(a)\n",
    "b='2223'\n",
    "print(b)"
   ]
  },
  {
   "cell_type": "code",
   "execution_count": null,
   "id": "01717184",
   "metadata": {},
   "outputs": [],
   "source": [
    "# type(b)\n",
    "type(b)"
   ]
  },
  {
   "cell_type": "code",
   "execution_count": 9,
   "id": "d6ccf1e6",
   "metadata": {},
   "outputs": [
    {
     "name": "stdout",
     "output_type": "stream",
     "text": [
      "REDDY\n",
      "1222\n"
     ]
    }
   ],
   "source": [
    "# using Double quotes(\"\")\n",
    "a=\"REDDY\"\n",
    "print(a)\n",
    "b=\"1222\"\n",
    "print(b)"
   ]
  },
  {
   "cell_type": "code",
   "execution_count": 10,
   "id": "c488250a",
   "metadata": {},
   "outputs": [
    {
     "data": {
      "text/plain": [
       "str"
      ]
     },
     "execution_count": 10,
     "metadata": {},
     "output_type": "execute_result"
    }
   ],
   "source": [
    "type(a)"
   ]
  },
  {
   "cell_type": "code",
   "execution_count": 11,
   "id": "39010fe3",
   "metadata": {},
   "outputs": [
    {
     "name": "stdout",
     "output_type": "stream",
     "text": [
      "<class 'str'>\n"
     ]
    }
   ],
   "source": [
    "# type(a)\n",
    "print(type(a))"
   ]
  },
  {
   "cell_type": "code",
   "execution_count": 12,
   "id": "01f1b4f6",
   "metadata": {},
   "outputs": [
    {
     "data": {
      "text/plain": [
       "16"
      ]
     },
     "execution_count": 12,
     "metadata": {},
     "output_type": "execute_result"
    }
   ],
   "source": [
    "#len() of string\n",
    "a =\"Netzwerk Academy\"\n",
    "len(a)"
   ]
  },
  {
   "cell_type": "code",
   "execution_count": 13,
   "id": "41e5a8e3",
   "metadata": {},
   "outputs": [
    {
     "data": {
      "text/plain": [
       "27"
      ]
     },
     "execution_count": 13,
     "metadata": {},
     "output_type": "execute_result"
    }
   ],
   "source": [
    "# Spaces are also counted\n",
    "\n",
    "a =\"Welcome to Netzwerk Academy\"\n",
    "len(a)"
   ]
  },
  {
   "cell_type": "markdown",
   "id": "1721a84d",
   "metadata": {},
   "source": [
    "# String indexing"
   ]
  },
  {
   "cell_type": "code",
   "execution_count": null,
   "id": "a011f643",
   "metadata": {},
   "outputs": [],
   "source": [
    "#.Indexing \n",
    "               Character: N E T Z W E R K\n",
    "                   Index: 0 1 2 3 4 5 6 7\n",
    "                \n",
    "                \n",
    " #Reverse Indexing\n",
    "                     Character: N  E  T  Z  W  E  R  K\n",
    "                         Index: 0  1  2  3  4  5  6  7\n",
    "                 Reverse Index: 0 -7 -6 -5 -4 -3 -2 -1               \n",
    "\n"
   ]
  },
  {
   "cell_type": "code",
   "execution_count": 14,
   "id": "61272551",
   "metadata": {},
   "outputs": [
    {
     "name": "stdout",
     "output_type": "stream",
     "text": [
      "N\n"
     ]
    }
   ],
   "source": [
    "# Examples on indexing and reverse indexing\n",
    "\n",
    "a =\"Netzwerk\"\n",
    "print(a[0])"
   ]
  },
  {
   "cell_type": "code",
   "execution_count": 15,
   "id": "e668d506",
   "metadata": {},
   "outputs": [
    {
     "name": "stdout",
     "output_type": "stream",
     "text": [
      "z\n"
     ]
    }
   ],
   "source": [
    "print(a[3])"
   ]
  },
  {
   "cell_type": "code",
   "execution_count": 18,
   "id": "9ec30cbc",
   "metadata": {},
   "outputs": [
    {
     "name": "stdout",
     "output_type": "stream",
     "text": [
      "w\n"
     ]
    }
   ],
   "source": [
    "print(a[-4])"
   ]
  },
  {
   "cell_type": "markdown",
   "id": "9889ab17",
   "metadata": {},
   "source": [
    "# Slicing"
   ]
  },
  {
   "cell_type": "code",
   "execution_count": null,
   "id": "fc2940a1",
   "metadata": {},
   "outputs": [],
   "source": [
    "#[start:stop:step]\n",
    "\n",
    ".start = starting position (default value is 0)\n",
    ".stop = end position. \n",
    ".step = step size or increment size (default value is 1)\n"
   ]
  },
  {
   "cell_type": "code",
   "execution_count": 20,
   "id": "3ca53da8",
   "metadata": {},
   "outputs": [
    {
     "data": {
      "text/plain": [
       "'Netzwerk'"
      ]
     },
     "execution_count": 20,
     "metadata": {},
     "output_type": "execute_result"
    }
   ],
   "source": [
    "# Examples on slicing\n",
    "\n",
    "a=\"Netzwerk Academy\"\n",
    "#Grab Netzwerk\n",
    "a[0:8:1]"
   ]
  },
  {
   "cell_type": "code",
   "execution_count": 21,
   "id": "5e41745d",
   "metadata": {},
   "outputs": [
    {
     "data": {
      "text/plain": [
       "'Netzwerk'"
      ]
     },
     "execution_count": 21,
     "metadata": {},
     "output_type": "execute_result"
    }
   ],
   "source": [
    "a[:8]"
   ]
  },
  {
   "cell_type": "code",
   "execution_count": 22,
   "id": "ac916843",
   "metadata": {},
   "outputs": [
    {
     "data": {
      "text/plain": [
       "'Academy'"
      ]
     },
     "execution_count": 22,
     "metadata": {},
     "output_type": "execute_result"
    }
   ],
   "source": [
    "#grab Academy\n",
    "a[9:]"
   ]
  },
  {
   "cell_type": "code",
   "execution_count": 23,
   "id": "15364792",
   "metadata": {},
   "outputs": [
    {
     "data": {
      "text/plain": [
       "'Academy'"
      ]
     },
     "execution_count": 23,
     "metadata": {},
     "output_type": "execute_result"
    }
   ],
   "source": [
    "# using negative indexing\n",
    "a[-7:]"
   ]
  },
  {
   "cell_type": "code",
   "execution_count": 24,
   "id": "afda2ff5",
   "metadata": {},
   "outputs": [
    {
     "data": {
      "text/plain": [
       "'NzrAdy'"
      ]
     },
     "execution_count": 24,
     "metadata": {},
     "output_type": "execute_result"
    }
   ],
   "source": [
    "#step size\n",
    "a[::3]"
   ]
  },
  {
   "cell_type": "code",
   "execution_count": 25,
   "id": "2226fc6e",
   "metadata": {},
   "outputs": [
    {
     "data": {
      "text/plain": [
       "'ymedacA krewzteN'"
      ]
     },
     "execution_count": 25,
     "metadata": {},
     "output_type": "execute_result"
    }
   ],
   "source": [
    "a[::-1]"
   ]
  },
  {
   "cell_type": "markdown",
   "id": "a64f9704",
   "metadata": {},
   "source": [
    "# concatination"
   ]
  },
  {
   "cell_type": "code",
   "execution_count": 26,
   "id": "ba655678",
   "metadata": {},
   "outputs": [
    {
     "name": "stdout",
     "output_type": "stream",
     "text": [
      "NetzwerkAcademy\n"
     ]
    }
   ],
   "source": [
    "str1= \"Netzwerk\"\n",
    "str2= \"Academy\"\n",
    "str3=str1 + str2\n",
    "print(str3)"
   ]
  },
  {
   "cell_type": "code",
   "execution_count": 27,
   "id": "84faf70a",
   "metadata": {},
   "outputs": [
    {
     "ename": "TypeError",
     "evalue": "can only concatenate str (not \"int\") to str",
     "output_type": "error",
     "traceback": [
      "\u001b[1;31m---------------------------------------------------------------------------\u001b[0m",
      "\u001b[1;31mTypeError\u001b[0m                                 Traceback (most recent call last)",
      "\u001b[1;32m<ipython-input-27-470b45943219>\u001b[0m in \u001b[0;36m<module>\u001b[1;34m\u001b[0m\n\u001b[0;32m      2\u001b[0m \u001b[0mstr1\u001b[0m \u001b[1;33m=\u001b[0m\u001b[1;34m\"Netzwerk\"\u001b[0m\u001b[1;33m\u001b[0m\u001b[1;33m\u001b[0m\u001b[0m\n\u001b[0;32m      3\u001b[0m \u001b[0mstr2\u001b[0m \u001b[1;33m=\u001b[0m \u001b[1;36m2223\u001b[0m\u001b[1;33m\u001b[0m\u001b[1;33m\u001b[0m\u001b[0m\n\u001b[1;32m----> 4\u001b[1;33m \u001b[0mprint\u001b[0m\u001b[1;33m(\u001b[0m\u001b[0mstr1\u001b[0m \u001b[1;33m+\u001b[0m \u001b[0mstr2\u001b[0m\u001b[1;33m)\u001b[0m\u001b[1;33m\u001b[0m\u001b[1;33m\u001b[0m\u001b[0m\n\u001b[0m",
      "\u001b[1;31mTypeError\u001b[0m: can only concatenate str (not \"int\") to str"
     ]
    }
   ],
   "source": [
    "#Error\n",
    "str1 =\"Netzwerk\"\n",
    "str2 = 2223\n",
    "print(str1 + str2)"
   ]
  },
  {
   "cell_type": "markdown",
   "id": "6db0323c",
   "metadata": {},
   "source": [
    "# Immutability"
   ]
  },
  {
   "cell_type": "code",
   "execution_count": 28,
   "id": "d14d4eff",
   "metadata": {},
   "outputs": [],
   "source": [
    "#Strings are immutable means value of an obj can't be changed overtime, once created the value of these objects are permaent.\n",
    "\n",
    "name = \"Tree\""
   ]
  },
  {
   "cell_type": "code",
   "execution_count": 29,
   "id": "bc7c079c",
   "metadata": {},
   "outputs": [
    {
     "ename": "TypeError",
     "evalue": "'str' object does not support item assignment",
     "output_type": "error",
     "traceback": [
      "\u001b[1;31m---------------------------------------------------------------------------\u001b[0m",
      "\u001b[1;31mTypeError\u001b[0m                                 Traceback (most recent call last)",
      "\u001b[1;32m<ipython-input-29-00f69f9ff8e5>\u001b[0m in \u001b[0;36m<module>\u001b[1;34m\u001b[0m\n\u001b[1;32m----> 1\u001b[1;33m \u001b[0mname\u001b[0m\u001b[1;33m[\u001b[0m\u001b[1;36m0\u001b[0m\u001b[1;33m]\u001b[0m \u001b[1;33m=\u001b[0m \u001b[1;34m\"F\"\u001b[0m\u001b[1;33m\u001b[0m\u001b[1;33m\u001b[0m\u001b[0m\n\u001b[0m",
      "\u001b[1;31mTypeError\u001b[0m: 'str' object does not support item assignment"
     ]
    }
   ],
   "source": [
    "name[0] = \"F\""
   ]
  },
  {
   "cell_type": "code",
   "execution_count": 30,
   "id": "9825984a",
   "metadata": {},
   "outputs": [
    {
     "data": {
      "text/plain": [
       "'Free'"
      ]
     },
     "execution_count": 30,
     "metadata": {},
     "output_type": "execute_result"
    }
   ],
   "source": [
    "# Work around\n",
    "\"F\" + name[1:]"
   ]
  },
  {
   "cell_type": "code",
   "execution_count": null,
   "id": "3120eca0",
   "metadata": {},
   "outputs": [],
   "source": []
  }
 ],
 "metadata": {
  "kernelspec": {
   "display_name": "Python 3",
   "language": "python",
   "name": "python3"
  },
  "language_info": {
   "codemirror_mode": {
    "name": "ipython",
    "version": 3
   },
   "file_extension": ".py",
   "mimetype": "text/x-python",
   "name": "python",
   "nbconvert_exporter": "python",
   "pygments_lexer": "ipython3",
   "version": "3.8.8"
  }
 },
 "nbformat": 4,
 "nbformat_minor": 5
}
