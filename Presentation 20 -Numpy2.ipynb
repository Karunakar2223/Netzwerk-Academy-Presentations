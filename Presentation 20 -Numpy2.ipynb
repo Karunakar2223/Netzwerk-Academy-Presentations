{
 "cells": [
  {
   "cell_type": "markdown",
   "id": "b8edf65c",
   "metadata": {},
   "source": [
    "# Numpy2\n",
    "\n",
    "-> Splitting the arrays"
   ]
  },
  {
   "cell_type": "markdown",
   "id": "70632759",
   "metadata": {},
   "source": [
    "# 1-d"
   ]
  },
  {
   "cell_type": "code",
   "execution_count": 1,
   "id": "73a24f2c",
   "metadata": {},
   "outputs": [
    {
     "name": "stdout",
     "output_type": "stream",
     "text": [
      "[array([0, 1]), array([2, 3]), array([4, 5]), array([6, 7]), array([8, 9])]\n"
     ]
    }
   ],
   "source": [
    "import numpy as np\n",
    "\n",
    "arr = np.array([0,1,2,3,4,5,6,7,8,9])\n",
    "\n",
    "newarr = np.array_split(arr,5) # This step helps to split\n",
    "\n",
    "print(newarr)"
   ]
  },
  {
   "cell_type": "code",
   "execution_count": 2,
   "id": "968351d4",
   "metadata": {},
   "outputs": [
    {
     "name": "stdout",
     "output_type": "stream",
     "text": [
      "[0 1]\n",
      "[2 3]\n",
      "[4 5]\n",
      "[6 7]\n",
      "[8 9]\n"
     ]
    }
   ],
   "source": [
    "print(newarr[0])\n",
    "print(newarr[1])\n",
    "print(newarr[2])\n",
    "print(newarr[3])\n",
    "print(newarr[4])"
   ]
  },
  {
   "cell_type": "markdown",
   "id": "29f13578",
   "metadata": {},
   "source": [
    "# 2-d"
   ]
  },
  {
   "cell_type": "code",
   "execution_count": 3,
   "id": "be356d9b",
   "metadata": {},
   "outputs": [
    {
     "name": "stdout",
     "output_type": "stream",
     "text": [
      "[array([[0, 1, 2],\n",
      "       [3, 4, 5]]), array([[ 6,  7,  8],\n",
      "       [ 9, 10, 11]]), array([[12, 13, 14]])]\n"
     ]
    }
   ],
   "source": [
    "import numpy as np\n",
    "\n",
    "arr = np.array([[0,1,2],[3,4,5],[6,7,8],[9,10,11],[12,13,14]])\n",
    "\n",
    "newarr = np.array_split(arr,3)\n",
    "\n",
    "print(newarr)"
   ]
  },
  {
   "cell_type": "code",
   "execution_count": 4,
   "id": "bd7f7346",
   "metadata": {
    "scrolled": true
   },
   "outputs": [
    {
     "name": "stdout",
     "output_type": "stream",
     "text": [
      "[[ 0  1  2]\n",
      " [ 3  4  5]\n",
      " [ 6  7  8]\n",
      " [ 9 10 11]\n",
      " [12 13 14]]\n",
      "\n",
      "[array([[ 0],\n",
      "       [ 3],\n",
      "       [ 6],\n",
      "       [ 9],\n",
      "       [12]]), array([[ 1],\n",
      "       [ 4],\n",
      "       [ 7],\n",
      "       [10],\n",
      "       [13]]), array([[ 2],\n",
      "       [ 5],\n",
      "       [ 8],\n",
      "       [11],\n",
      "       [14]])]\n"
     ]
    }
   ],
   "source": [
    "import numpy as np\n",
    "\n",
    "arr = np.array([[0,1,2],[3,4,5],[6,7,8],[9,10,11],[12,13,14]])\n",
    "print(arr)\n",
    "print(\"\")\n",
    "newarr = np.array_split(arr,3,axis=1)\n",
    "print(newarr)"
   ]
  },
  {
   "cell_type": "markdown",
   "id": "7e6650ab",
   "metadata": {},
   "source": [
    "# Random number\n",
    "\n",
    "-> It is not a diff.num eachtime, but an unpredicted number logically"
   ]
  },
  {
   "cell_type": "code",
   "execution_count": 7,
   "id": "0bdcacae",
   "metadata": {},
   "outputs": [
    {
     "name": "stdout",
     "output_type": "stream",
     "text": [
      "6\n"
     ]
    }
   ],
   "source": [
    "# Generate a random number\n",
    "\n",
    "from numpy import random\n",
    "die_roll = random.randint(1,7)\n",
    "print(die_roll)"
   ]
  },
  {
   "cell_type": "code",
   "execution_count": 9,
   "id": "ea57d7a6",
   "metadata": {},
   "outputs": [
    {
     "name": "stdout",
     "output_type": "stream",
     "text": [
      "[87 62  3 79 22 82 67]\n"
     ]
    }
   ],
   "source": [
    "# Generate a random array\n",
    "\n",
    "# For 1d\n",
    "x=random.randint(90, size=(7))\n",
    "\n",
    "print(x)"
   ]
  },
  {
   "cell_type": "code",
   "execution_count": 11,
   "id": "b6f94c33",
   "metadata": {},
   "outputs": [
    {
     "name": "stdout",
     "output_type": "stream",
     "text": [
      "[[0 5 5]\n",
      " [2 3 2]]\n"
     ]
    }
   ],
   "source": [
    "# For 2d\n",
    "x = random.randint(8, size=(2, 3))\n",
    "\n",
    "print(x)"
   ]
  },
  {
   "cell_type": "markdown",
   "id": "1f7bc5d9",
   "metadata": {},
   "source": [
    "# Random permutation\n",
    "\n",
    "-> An arrangements of elements\n",
    "\n",
    "Two methods are there:"
   ]
  },
  {
   "cell_type": "code",
   "execution_count": 13,
   "id": "ebbdeeac",
   "metadata": {},
   "outputs": [
    {
     "name": "stdout",
     "output_type": "stream",
     "text": [
      "[4 2 3 5 1]\n"
     ]
    }
   ],
   "source": [
    "from numpy import random\n",
    "import numpy as np\n",
    "\n",
    "arr = np.array([1, 2, 3, 4, 5])\n",
    "\n",
    "random.shuffle(arr) # original array will be modified\n",
    "\n",
    "print(arr)"
   ]
  },
  {
   "cell_type": "code",
   "execution_count": 14,
   "id": "5419231b",
   "metadata": {},
   "outputs": [
    {
     "name": "stdout",
     "output_type": "stream",
     "text": [
      "[22 23 25 26 24]\n",
      "\n",
      "[22 23 24 25 26]\n"
     ]
    }
   ],
   "source": [
    "from numpy import random\n",
    "import numpy as np\n",
    "\n",
    "arr = np.array([22,23,24,25,26])\n",
    "\n",
    "print(random.permutation(arr))\n",
    "print(\"\")\n",
    "print(arr)           # won't effect original array"
   ]
  },
  {
   "cell_type": "code",
   "execution_count": null,
   "id": "05cf3eaa",
   "metadata": {},
   "outputs": [],
   "source": []
  }
 ],
 "metadata": {
  "kernelspec": {
   "display_name": "Python 3",
   "language": "python",
   "name": "python3"
  },
  "language_info": {
   "codemirror_mode": {
    "name": "ipython",
    "version": 3
   },
   "file_extension": ".py",
   "mimetype": "text/x-python",
   "name": "python",
   "nbconvert_exporter": "python",
   "pygments_lexer": "ipython3",
   "version": "3.8.8"
  }
 },
 "nbformat": 4,
 "nbformat_minor": 5
}
