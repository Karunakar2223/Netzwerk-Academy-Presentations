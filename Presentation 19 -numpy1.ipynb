{
 "cells": [
  {
   "cell_type": "markdown",
   "id": "f6e9a9a1",
   "metadata": {},
   "source": [
    "# Numpy\n",
    "\n",
    "-> Numerical python.\n",
    "\n",
    "-> Numpy is the core library for scientific computing in python.\n",
    "\n",
    "-> It provides a high performance multidimensional array object, and tools for working with these arrays.\n",
    "\n",
    "-> The most basic object in Numpy is the ndarray."
   ]
  },
  {
   "cell_type": "markdown",
   "id": "32271eac",
   "metadata": {},
   "source": [
    "# why numpy?\n",
    "\n",
    "-> Its convenience & speed.\n",
    "\n",
    "-> NumPy is much faster than the standard python ways to do computations.\n",
    "\n",
    "-> We don't have to do the explicit looping and indexing etc. (all of this happens behind the scenes, in precompiled C-code), and thus it is much more concise.\n",
    "\n",
    "-> NumPy arrays are more compact than lists, i.e. they take much lesser storage space than lists"
   ]
  },
  {
   "cell_type": "code",
   "execution_count": 1,
   "id": "1625dcb8",
   "metadata": {},
   "outputs": [],
   "source": [
    "import numpy as np"
   ]
  },
  {
   "cell_type": "markdown",
   "id": "3881a3e9",
   "metadata": {},
   "source": [
    "# creating new numpy array."
   ]
  },
  {
   "cell_type": "code",
   "execution_count": 2,
   "id": "539ded79",
   "metadata": {},
   "outputs": [
    {
     "name": "stdout",
     "output_type": "stream",
     "text": [
      "[ 1  4  9 16 25 36]\n"
     ]
    }
   ],
   "source": [
    "var=np.array([1,4,9,16,25,36])     \n",
    "print(var)"
   ]
  },
  {
   "cell_type": "code",
   "execution_count": 3,
   "id": "a74f9bb0",
   "metadata": {},
   "outputs": [
    {
     "data": {
      "text/plain": [
       "numpy.ndarray"
      ]
     },
     "execution_count": 3,
     "metadata": {},
     "output_type": "execute_result"
    }
   ],
   "source": [
    "# to check the type of var\n",
    "type(var)"
   ]
  },
  {
   "cell_type": "code",
   "execution_count": 4,
   "id": "35120cc2",
   "metadata": {},
   "outputs": [
    {
     "data": {
      "text/plain": [
       "(6,)"
      ]
     },
     "execution_count": 4,
     "metadata": {},
     "output_type": "execute_result"
    }
   ],
   "source": [
    "# to get the dimension\n",
    "var.shape"
   ]
  },
  {
   "cell_type": "code",
   "execution_count": 5,
   "id": "95e06bfa",
   "metadata": {},
   "outputs": [
    {
     "data": {
      "text/plain": [
       "dtype('int32')"
      ]
     },
     "execution_count": 5,
     "metadata": {},
     "output_type": "execute_result"
    }
   ],
   "source": [
    "# to get the datatypes of array elements\n",
    "var.dtype"
   ]
  },
  {
   "cell_type": "markdown",
   "id": "0a9252e8",
   "metadata": {},
   "source": [
    "# indexing"
   ]
  },
  {
   "cell_type": "code",
   "execution_count": 6,
   "id": "98b13387",
   "metadata": {},
   "outputs": [
    {
     "name": "stdout",
     "output_type": "stream",
     "text": [
      "40\n"
     ]
    }
   ],
   "source": [
    "print(var[1]+var[-1])"
   ]
  },
  {
   "cell_type": "code",
   "execution_count": 7,
   "id": "a758ac87",
   "metadata": {},
   "outputs": [
    {
     "name": "stdout",
     "output_type": "stream",
     "text": [
      "[[ 1  2  3  4  5]\n",
      " [ 1  4  9 16 25]]\n",
      "2\n",
      "(2, 5)\n",
      "int32\n"
     ]
    }
   ],
   "source": [
    "var2=np.array([[1,2,3,4,5],[1,4,9,16,25]])\n",
    "print(var2)\n",
    "print(var2.ndim)\n",
    "print(var2.shape)\n",
    "print(var2.dtype)"
   ]
  },
  {
   "cell_type": "code",
   "execution_count": 8,
   "id": "ae2458b8",
   "metadata": {},
   "outputs": [
    {
     "name": "stdout",
     "output_type": "stream",
     "text": [
      "2\n"
     ]
    }
   ],
   "source": [
    "print(var2[0,1])"
   ]
  },
  {
   "cell_type": "code",
   "execution_count": 9,
   "id": "1d2a1186",
   "metadata": {},
   "outputs": [
    {
     "name": "stdout",
     "output_type": "stream",
     "text": [
      "9\n"
     ]
    }
   ],
   "source": [
    "print(var2[1,2])"
   ]
  },
  {
   "cell_type": "markdown",
   "id": "1d028c5d",
   "metadata": {},
   "source": [
    "# slicing"
   ]
  },
  {
   "cell_type": "code",
   "execution_count": 10,
   "id": "90f50379",
   "metadata": {},
   "outputs": [
    {
     "name": "stdout",
     "output_type": "stream",
     "text": [
      "[ 4  9 16 25 36]\n"
     ]
    }
   ],
   "source": [
    "print(var[1:])"
   ]
  },
  {
   "cell_type": "code",
   "execution_count": 11,
   "id": "c6b384ad",
   "metadata": {},
   "outputs": [
    {
     "name": "stdout",
     "output_type": "stream",
     "text": [
      "[ 1  4  9 16]\n"
     ]
    }
   ],
   "source": [
    "print(var[ :4])"
   ]
  },
  {
   "cell_type": "code",
   "execution_count": 12,
   "id": "e9859e0f",
   "metadata": {},
   "outputs": [
    {
     "name": "stdout",
     "output_type": "stream",
     "text": [
      "[2 3 4]\n"
     ]
    }
   ],
   "source": [
    "print(var2[0, 1:4 ])"
   ]
  },
  {
   "cell_type": "code",
   "execution_count": 13,
   "id": "dca72db7",
   "metadata": {},
   "outputs": [
    {
     "name": "stdout",
     "output_type": "stream",
     "text": [
      "[ 4  9 16]\n"
     ]
    }
   ],
   "source": [
    "print(var2[1, 1:4 ])"
   ]
  },
  {
   "cell_type": "markdown",
   "id": "5aee79c9",
   "metadata": {},
   "source": [
    "# copy vs view"
   ]
  },
  {
   "cell_type": "markdown",
   "id": "6aa053a5",
   "metadata": {},
   "source": [
    "--> copy creates a own copy.\n",
    "\n",
    "--> view is the just original data."
   ]
  },
  {
   "cell_type": "code",
   "execution_count": 14,
   "id": "a52148b3",
   "metadata": {},
   "outputs": [
    {
     "name": "stdout",
     "output_type": "stream",
     "text": [
      "['Netzwerk' 'Academy' 'Banglore' 'Reddy' 'BDS']\n",
      "\n",
      "['Netzwerk' 'Academy' 'Banglore' 'BDS' 'Reddy']\n"
     ]
    }
   ],
   "source": [
    "var3=np.array([\"Netzwerk\", \"Academy\", \"Banglore\", \"Reddy\", \"BDS\"])\n",
    "\n",
    "my_copy=var3.copy()\n",
    "my_view=var3.view()\n",
    "\n",
    "\n",
    "(var3[3], var3[4]) = (var3[4], var3[3])\n",
    "\n",
    "print(my_copy)\n",
    "print(\"\")\n",
    "print(my_view)"
   ]
  },
  {
   "cell_type": "code",
   "execution_count": null,
   "id": "ea31078f",
   "metadata": {},
   "outputs": [],
   "source": []
  }
 ],
 "metadata": {
  "kernelspec": {
   "display_name": "Python 3",
   "language": "python",
   "name": "python3"
  },
  "language_info": {
   "codemirror_mode": {
    "name": "ipython",
    "version": 3
   },
   "file_extension": ".py",
   "mimetype": "text/x-python",
   "name": "python",
   "nbconvert_exporter": "python",
   "pygments_lexer": "ipython3",
   "version": "3.8.8"
  }
 },
 "nbformat": 4,
 "nbformat_minor": 5
}
