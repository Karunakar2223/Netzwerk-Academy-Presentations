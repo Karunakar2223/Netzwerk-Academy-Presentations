{
 "cells": [
  {
   "cell_type": "markdown",
   "id": "cce45905",
   "metadata": {},
   "source": [
    "# FUNCTIONS\n",
    "\n",
    "->Functions are the block of reusable code that will execute only when it is called."
   ]
  },
  {
   "cell_type": "code",
   "execution_count": null,
   "id": "9e1f0ac0",
   "metadata": {},
   "outputs": [],
   "source": [
    "# syntax\n",
    "\"\"\"\n",
    "def function_name():\n",
    "    statement 1\n",
    "    statement 2\n",
    "    ...\n",
    "    ...\n",
    "    ...\n",
    "    statement n\n",
    "\"\"\""
   ]
  },
  {
   "cell_type": "code",
   "execution_count": 2,
   "id": "706fb1e2",
   "metadata": {},
   "outputs": [],
   "source": [
    "# defining the function\n",
    "def my_func():\n",
    "    print(\"hello\")\n",
    "    print(\"I am a function\")\n",
    "    print(\"I will execute only when i get called\")"
   ]
  },
  {
   "cell_type": "code",
   "execution_count": 3,
   "id": "05565073",
   "metadata": {},
   "outputs": [
    {
     "name": "stdout",
     "output_type": "stream",
     "text": [
      "hello\n",
      "I am a function\n",
      "I will execute only when i get called\n"
     ]
    }
   ],
   "source": [
    "# calling the function\n",
    "my_func()"
   ]
  },
  {
   "cell_type": "code",
   "execution_count": 4,
   "id": "da075987",
   "metadata": {},
   "outputs": [],
   "source": [
    "#Ex2) Adding two numbers\n",
    "def add():\n",
    "    x = 10\n",
    "    y = 20\n",
    "    z = x + y\n",
    "    print(z)"
   ]
  },
  {
   "cell_type": "code",
   "execution_count": 5,
   "id": "c6c65df8",
   "metadata": {},
   "outputs": [
    {
     "name": "stdout",
     "output_type": "stream",
     "text": [
      "30\n"
     ]
    }
   ],
   "source": [
    "add()"
   ]
  },
  {
   "cell_type": "markdown",
   "id": "df2c77ab",
   "metadata": {},
   "source": [
    "# Passing parameters/arguments to function¶"
   ]
  },
  {
   "cell_type": "code",
   "execution_count": 6,
   "id": "d5ffe4ca",
   "metadata": {},
   "outputs": [],
   "source": [
    "#Ex1)you can pass numbers\n",
    "def add(x,y):\n",
    "    z = x + y\n",
    "    print(z)"
   ]
  },
  {
   "cell_type": "code",
   "execution_count": 7,
   "id": "8c1b4d7e",
   "metadata": {},
   "outputs": [
    {
     "name": "stdout",
     "output_type": "stream",
     "text": [
      "45\n"
     ]
    }
   ],
   "source": [
    "add(22,23)"
   ]
  },
  {
   "cell_type": "code",
   "execution_count": 8,
   "id": "9b7980ea",
   "metadata": {},
   "outputs": [],
   "source": [
    "#Ex2) you can pass strings\n",
    "def func(name):\n",
    "    print(\"Hello {}\".format(name))"
   ]
  },
  {
   "cell_type": "code",
   "execution_count": 9,
   "id": "249dd129",
   "metadata": {},
   "outputs": [
    {
     "name": "stdout",
     "output_type": "stream",
     "text": [
      "Hello Reddy2223\n"
     ]
    }
   ],
   "source": [
    "func(\"Reddy2223\")"
   ]
  },
  {
   "cell_type": "code",
   "execution_count": 10,
   "id": "8cd60eed",
   "metadata": {},
   "outputs": [],
   "source": [
    "# Ex3) you can pass lists\n",
    "def func(list1):\n",
    "    for i in list1:\n",
    "        print(i)"
   ]
  },
  {
   "cell_type": "code",
   "execution_count": 11,
   "id": "ba9c4895",
   "metadata": {},
   "outputs": [
    {
     "name": "stdout",
     "output_type": "stream",
     "text": [
      "1\n",
      "2\n",
      "3\n",
      "4\n",
      "5\n"
     ]
    }
   ],
   "source": [
    "func([1,2,3,4,5])"
   ]
  },
  {
   "cell_type": "markdown",
   "id": "a7a212a1",
   "metadata": {},
   "source": [
    "# return keyword \n",
    "\n",
    "->can be used to return values from a function\n",
    "\n",
    "->it can be used to end the execution of a function\n",
    "\n",
    "->statements below return keyword will not get executed"
   ]
  },
  {
   "cell_type": "code",
   "execution_count": 12,
   "id": "8172989a",
   "metadata": {},
   "outputs": [],
   "source": [
    "# Ex1) returning sum\n",
    "def add(x,y):\n",
    "    z = x + y\n",
    "    return z\n",
    "    print(z) #will not be executed"
   ]
  },
  {
   "cell_type": "code",
   "execution_count": 13,
   "id": "d0f1022a",
   "metadata": {},
   "outputs": [
    {
     "data": {
      "text/plain": [
       "40"
      ]
     },
     "execution_count": 13,
     "metadata": {},
     "output_type": "execute_result"
    }
   ],
   "source": [
    "my_sum = add(10,20)\n",
    "my_sum + 10"
   ]
  },
  {
   "cell_type": "code",
   "execution_count": 14,
   "id": "24929670",
   "metadata": {},
   "outputs": [],
   "source": [
    "# Ex2) returning product\n",
    "def product(x,y):\n",
    "    z = x * y\n",
    "    return z\n",
    "    print(z) #will not execute"
   ]
  },
  {
   "cell_type": "code",
   "execution_count": 15,
   "id": "5bbc2cfb",
   "metadata": {},
   "outputs": [
    {
     "data": {
      "text/plain": [
       "20"
      ]
     },
     "execution_count": 15,
     "metadata": {},
     "output_type": "execute_result"
    }
   ],
   "source": [
    "my_num = product(10,2)\n",
    "my_num"
   ]
  },
  {
   "cell_type": "markdown",
   "id": "37ee75a2",
   "metadata": {},
   "source": [
    "# Default values\n",
    "\n",
    "->to initialize the parameters with default values in order to avoid the errors"
   ]
  },
  {
   "cell_type": "code",
   "execution_count": 16,
   "id": "64573c7d",
   "metadata": {},
   "outputs": [],
   "source": [
    "#Without default values\n",
    "def add(x,y,z):\n",
    "    my_num = x + y + z\n",
    "    print(my_num)"
   ]
  },
  {
   "cell_type": "code",
   "execution_count": 17,
   "id": "42b39852",
   "metadata": {},
   "outputs": [
    {
     "name": "stdout",
     "output_type": "stream",
     "text": [
      "60\n"
     ]
    }
   ],
   "source": [
    "# when value is passed\n",
    "add(10,20,30)"
   ]
  },
  {
   "cell_type": "code",
   "execution_count": 18,
   "id": "c153a9a3",
   "metadata": {},
   "outputs": [
    {
     "ename": "TypeError",
     "evalue": "add() missing 1 required positional argument: 'z'",
     "output_type": "error",
     "traceback": [
      "\u001b[1;31m---------------------------------------------------------------------------\u001b[0m",
      "\u001b[1;31mTypeError\u001b[0m                                 Traceback (most recent call last)",
      "\u001b[1;32m<ipython-input-18-db362d118943>\u001b[0m in \u001b[0;36m<module>\u001b[1;34m\u001b[0m\n\u001b[0;32m      1\u001b[0m \u001b[1;31m# when value is not passed\u001b[0m\u001b[1;33m\u001b[0m\u001b[1;33m\u001b[0m\u001b[1;33m\u001b[0m\u001b[0m\n\u001b[1;32m----> 2\u001b[1;33m \u001b[0madd\u001b[0m\u001b[1;33m(\u001b[0m\u001b[1;36m10\u001b[0m\u001b[1;33m,\u001b[0m\u001b[1;36m20\u001b[0m\u001b[1;33m)\u001b[0m \u001b[1;31m#ERROR\u001b[0m\u001b[1;33m\u001b[0m\u001b[1;33m\u001b[0m\u001b[0m\n\u001b[0m",
      "\u001b[1;31mTypeError\u001b[0m: add() missing 1 required positional argument: 'z'"
     ]
    }
   ],
   "source": [
    "# when value is not passed\n",
    "add(10,20) #ERROR"
   ]
  },
  {
   "cell_type": "code",
   "execution_count": 19,
   "id": "2b61a573",
   "metadata": {},
   "outputs": [],
   "source": [
    "# With default values\n",
    "\n",
    "def add(x,y,z = 0): #z is initilized to 0 (default)\n",
    "    my_num = x + y + z\n",
    "    print(my_num)"
   ]
  },
  {
   "cell_type": "code",
   "execution_count": 20,
   "id": "6b79ccea",
   "metadata": {},
   "outputs": [
    {
     "name": "stdout",
     "output_type": "stream",
     "text": [
      "30\n"
     ]
    }
   ],
   "source": [
    "# when value is not passed\n",
    "add(10,20)"
   ]
  },
  {
   "cell_type": "code",
   "execution_count": 21,
   "id": "8c233081",
   "metadata": {},
   "outputs": [
    {
     "name": "stdout",
     "output_type": "stream",
     "text": [
      "60\n"
     ]
    }
   ],
   "source": [
    "#when value is passed\n",
    "add(10,20,30)"
   ]
  },
  {
   "cell_type": "markdown",
   "id": "68b2bf5f",
   "metadata": {},
   "source": [
    "# A function can call any other function¶"
   ]
  },
  {
   "cell_type": "code",
   "execution_count": 22,
   "id": "62f461bc",
   "metadata": {},
   "outputs": [],
   "source": [
    "\n",
    "def func1():\n",
    "    print(\"func1\")\n",
    "\n",
    "def func2():\n",
    "    print(\"func2\")\n",
    "    func1()\n",
    "    \n",
    "def func3():\n",
    "    print(\"func3\")\n",
    "    func2()"
   ]
  },
  {
   "cell_type": "code",
   "execution_count": 23,
   "id": "219cae18",
   "metadata": {},
   "outputs": [
    {
     "name": "stdout",
     "output_type": "stream",
     "text": [
      "func3\n",
      "func2\n",
      "func1\n"
     ]
    }
   ],
   "source": [
    "func3()"
   ]
  },
  {
   "cell_type": "markdown",
   "id": "621c8305",
   "metadata": {},
   "source": [
    "# Recursion or Recursive Function\n",
    "\n",
    "->A function calling itself\n",
    "\n",
    "->Possibility of infinite execution. Always handle this scenario"
   ]
  },
  {
   "cell_type": "code",
   "execution_count": 24,
   "id": "0d9fbfea",
   "metadata": {},
   "outputs": [],
   "source": [
    "# Printing Hello for 5 times using recursion\n",
    "def my_func(num):\n",
    "    num = num + 1\n",
    "    if(num>5):\n",
    "        return\n",
    "    else:\n",
    "        print(\"Hello\")\n",
    "        my_func(num)"
   ]
  },
  {
   "cell_type": "code",
   "execution_count": 25,
   "id": "b8fa900a",
   "metadata": {},
   "outputs": [
    {
     "name": "stdout",
     "output_type": "stream",
     "text": [
      "Hello\n",
      "Hello\n",
      "Hello\n",
      "Hello\n",
      "Hello\n"
     ]
    }
   ],
   "source": [
    "my_func(0)"
   ]
  },
  {
   "cell_type": "code",
   "execution_count": null,
   "id": "b6bfb9b0",
   "metadata": {},
   "outputs": [],
   "source": []
  }
 ],
 "metadata": {
  "kernelspec": {
   "display_name": "Python 3",
   "language": "python",
   "name": "python3"
  },
  "language_info": {
   "codemirror_mode": {
    "name": "ipython",
    "version": 3
   },
   "file_extension": ".py",
   "mimetype": "text/x-python",
   "name": "python",
   "nbconvert_exporter": "python",
   "pygments_lexer": "ipython3",
   "version": "3.8.8"
  }
 },
 "nbformat": 4,
 "nbformat_minor": 5
}
