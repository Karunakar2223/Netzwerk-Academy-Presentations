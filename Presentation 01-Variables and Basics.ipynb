{
 "cells": [
  {
   "cell_type": "markdown",
   "metadata": {},
   "source": [
    "INTRODUCTION TO PYTHON\n",
    "\n",
    "1]Python is a high level programming language.\n",
    "\n",
    "2]It is interpreted and object oriented programming language.\n",
    "\n",
    "3]Simple to debug and maintain.\n",
    "\n",
    "4]Python doesn't convert code to machine code, but it converts the program code to [BYTE CODE].\n",
    "\n",
    "5]Large community."
   ]
  },
  {
   "cell_type": "markdown",
   "metadata": {},
   "source": [
    "# Variables"
   ]
  },
  {
   "cell_type": "code",
   "execution_count": 1,
   "metadata": {},
   "outputs": [
    {
     "name": "stdout",
     "output_type": "stream",
     "text": [
      "22\n",
      "Reddy\n"
     ]
    }
   ],
   "source": [
    "# Variables\n",
    "\n",
    "# A reserved memory location to store values.\n",
    "# A variable is created the moment you first assign a value to it.\n",
    "\n",
    "#EX:1)\n",
    "    \n",
    "x= 22\n",
    "y= \"Reddy\"\n",
    "\n",
    "print(x)\n",
    "print(y)"
   ]
  },
  {
   "cell_type": "code",
   "execution_count": 2,
   "metadata": {},
   "outputs": [
    {
     "name": "stdout",
     "output_type": "stream",
     "text": [
      "22\n",
      "Reddy\n"
     ]
    }
   ],
   "source": [
    "# In python,there is no need to declare the type of variable, same variables can be used to hold the different data types\n",
    "\n",
    "x = 22\n",
    "print(x)\n",
    "x =\"Reddy\"\n",
    "print(x)\n"
   ]
  },
  {
   "cell_type": "code",
   "execution_count": 3,
   "metadata": {},
   "outputs": [
    {
     "name": "stdout",
     "output_type": "stream",
     "text": [
      "22 23 24\n"
     ]
    }
   ],
   "source": [
    "# Convention for naming variables\n",
    "\n",
    "# Variable names are case-sensitive(run,Run and RUN are three different variables)\n",
    "\n",
    "run = 22 #print(run)\n",
    "Run = 23 #print(Run)\n",
    "RUN = 24 #print(RUN)\n",
    "print(run,Run,RUN)"
   ]
  },
  {
   "cell_type": "code",
   "execution_count": null,
   "metadata": {},
   "outputs": [],
   "source": [
    "# Examples of legal and illegal variable names\n",
    "\n",
    "#legal variables\n",
    "myvar = \"Reddy\"\n",
    "my_var = \"Reddy\"\n",
    "_my_var = \"Reddy\"\n",
    "MYVAR = \"Reddy\"\n",
    "myvar1 =\"Reddy\"\n",
    "\n",
    "#illegal variables\n",
    "my var = \"Reddy\"\n",
    "1myvar = \"Reddy\""
   ]
  },
  {
   "cell_type": "code",
   "execution_count": 4,
   "metadata": {},
   "outputs": [
    {
     "name": "stdout",
     "output_type": "stream",
     "text": [
      "Hello world\n"
     ]
    }
   ],
   "source": [
    "# print() function\n",
    "\n",
    "#print() function helps to display specified message to the screen.\n",
    "#the message can be a string or any other object, the object will be converted to str before it written to the screen.\n",
    "\n",
    "# EX:1\n",
    "print(\"Hello world\")"
   ]
  },
  {
   "cell_type": "code",
   "execution_count": 5,
   "metadata": {},
   "outputs": [
    {
     "name": "stdout",
     "output_type": "stream",
     "text": [
      "Karunakar\n",
      "Reddy\n"
     ]
    }
   ],
   "source": [
    "# EX:2\n",
    "first_name = \"Karunakar\"\n",
    "last_name = \"Reddy\"\n",
    "print(first_name)\n",
    "print(last_name)"
   ]
  },
  {
   "cell_type": "code",
   "execution_count": null,
   "metadata": {},
   "outputs": [],
   "source": [
    "#Python comments\n",
    "\n",
    "#explains python codes.\n",
    "#prevents execution when testing code.\n",
    "#make the code more readable."
   ]
  },
  {
   "cell_type": "code",
   "execution_count": 6,
   "metadata": {},
   "outputs": [
    {
     "name": "stdout",
     "output_type": "stream",
     "text": [
      "Netzwerk\n"
     ]
    }
   ],
   "source": [
    "# \"\"\"....\"\"\" is used to comment multiple lines of code.\n",
    "\n",
    "'''\n",
    "i am a\n",
    "multiline\n",
    "comment\n",
    "using '#' \n",
    "at the beginning of\n",
    "each line'''\n",
    "print(\"Netzwerk\")"
   ]
  },
  {
   "cell_type": "code",
   "execution_count": 7,
   "metadata": {},
   "outputs": [
    {
     "name": "stdout",
     "output_type": "stream",
     "text": [
      "enter first number:22\n",
      "enter second number:23\n",
      "2223\n"
     ]
    }
   ],
   "source": [
    "# input() function\n",
    "\n",
    "# The input function allows us to take input from the user.\n",
    "\n",
    "# EX: take two numbers from user and add them.\n",
    "\n",
    "num1=input(\"enter first number:\")\n",
    "num2=input(\"enter second number:\")\n",
    "\n",
    "num3 = num1 + num2\n",
    "print(num3)"
   ]
  },
  {
   "cell_type": "code",
   "execution_count": null,
   "metadata": {},
   "outputs": [],
   "source": []
  }
 ],
 "metadata": {
  "kernelspec": {
   "display_name": "Python 3",
   "language": "python",
   "name": "python3"
  },
  "language_info": {
   "codemirror_mode": {
    "name": "ipython",
    "version": 3
   },
   "file_extension": ".py",
   "mimetype": "text/x-python",
   "name": "python",
   "nbconvert_exporter": "python",
   "pygments_lexer": "ipython3",
   "version": "3.8.8"
  }
 },
 "nbformat": 4,
 "nbformat_minor": 4
}
