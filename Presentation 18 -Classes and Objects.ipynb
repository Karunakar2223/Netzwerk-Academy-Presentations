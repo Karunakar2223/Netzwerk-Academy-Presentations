{
 "cells": [
  {
   "cell_type": "markdown",
   "id": "c4559ffa",
   "metadata": {},
   "source": [
    "# Classes\n",
    "\n",
    "-> Like every other Object Oriented Programming language Python also supports classes.\n",
    "\n",
    "-> Class is like a blueprint or template for creating objects.\n",
    "\n",
    "-> class keyword is used to create classes in python."
   ]
  },
  {
   "cell_type": "code",
   "execution_count": null,
   "id": "98eaae40",
   "metadata": {},
   "outputs": [],
   "source": [
    "\"\"\"\n",
    "syntax ---->\n",
    "\n",
    "class NameOfTheClass:\n",
    "    .......\n",
    "\"\"\""
   ]
  },
  {
   "cell_type": "markdown",
   "id": "cb5de947",
   "metadata": {},
   "source": [
    "# Class\n",
    "\n",
    "-> A classs is the blueprint for objects creation"
   ]
  },
  {
   "cell_type": "code",
   "execution_count": 1,
   "id": "85e303b3",
   "metadata": {},
   "outputs": [],
   "source": [
    "class Cat:\n",
    "    pass"
   ]
  },
  {
   "cell_type": "markdown",
   "id": "47fd766d",
   "metadata": {},
   "source": [
    "# Objects\n",
    "\n",
    "-> Everything here is regarded as objects."
   ]
  },
  {
   "cell_type": "code",
   "execution_count": 2,
   "id": "50c40adf",
   "metadata": {},
   "outputs": [
    {
     "name": "stdout",
     "output_type": "stream",
     "text": [
      "meow meow...\n"
     ]
    }
   ],
   "source": [
    "class Cat:\n",
    "    var=\"meow meow...\"\n",
    "    \n",
    "    \n",
    "New_Obj=Cat()\n",
    "print(New_Obj.var)"
   ]
  },
  {
   "cell_type": "markdown",
   "id": "05d3bc97",
   "metadata": {},
   "source": [
    "# The __init__() Function\n",
    "\n",
    "-> All classes have a function called _ init _(), which is always executed when the class is being instantiated.\n",
    "\n",
    "-> It is run as soon as an object of a class is instantiated.\n",
    "\n",
    "-> use this function to assign values to object properties."
   ]
  },
  {
   "cell_type": "code",
   "execution_count": 3,
   "id": "e13dcc67",
   "metadata": {},
   "outputs": [],
   "source": [
    "class Dog:\n",
    "    def __init__(self):\n",
    "        print('Inside init method')"
   ]
  },
  {
   "cell_type": "code",
   "execution_count": 4,
   "id": "4dfcee3b",
   "metadata": {},
   "outputs": [
    {
     "name": "stdout",
     "output_type": "stream",
     "text": [
      "Inside init method\n"
     ]
    }
   ],
   "source": [
    "dog_obj = Dog()"
   ]
  },
  {
   "cell_type": "markdown",
   "id": "4d5145d3",
   "metadata": {},
   "source": [
    "# self parameter\n",
    "\n",
    "-> Class methods must have an extra first parameter in method definition. We do not give a value for this parameter when we call the method, Python provides it\n",
    "\n",
    "-> The self parameter is a reference to the current instance of the class.\n",
    "\n",
    "->It can be used to access variables that belongs to the class."
   ]
  },
  {
   "cell_type": "code",
   "execution_count": 5,
   "id": "e3d141ef",
   "metadata": {},
   "outputs": [],
   "source": [
    "class Dog:\n",
    "    def __init__(self,breed,size,age):\n",
    "        self.breed = breed\n",
    "        self.size = size\n",
    "        self.age = age"
   ]
  },
  {
   "cell_type": "code",
   "execution_count": 6,
   "id": "fe134bac",
   "metadata": {},
   "outputs": [
    {
     "data": {
      "text/plain": [
       "'Labrador'"
      ]
     },
     "execution_count": 6,
     "metadata": {},
     "output_type": "execute_result"
    }
   ],
   "source": [
    "dog1 = Dog('Labrador','medium',2)\n",
    "dog1.breed"
   ]
  },
  {
   "cell_type": "code",
   "execution_count": 7,
   "id": "72b670f4",
   "metadata": {},
   "outputs": [
    {
     "data": {
      "text/plain": [
       "'medium'"
      ]
     },
     "execution_count": 7,
     "metadata": {},
     "output_type": "execute_result"
    }
   ],
   "source": [
    "dog1.size"
   ]
  },
  {
   "cell_type": "code",
   "execution_count": 8,
   "id": "b4e71d6f",
   "metadata": {},
   "outputs": [
    {
     "data": {
      "text/plain": [
       "2"
      ]
     },
     "execution_count": 8,
     "metadata": {},
     "output_type": "execute_result"
    }
   ],
   "source": [
    "dog1.age"
   ]
  },
  {
   "cell_type": "markdown",
   "id": "de3a6672",
   "metadata": {},
   "source": [
    "# class variables and instance variables\n",
    "\n",
    "-> class variables are the variables that are common to all the objects.\n",
    "\n",
    "-> instance variables are the variables that are specific to the particular objects."
   ]
  },
  {
   "cell_type": "code",
   "execution_count": 9,
   "id": "0e02bfb6",
   "metadata": {},
   "outputs": [],
   "source": [
    "class Dog:\n",
    "    #class variables\n",
    "    species = 'mammal'\n",
    "    city = 'Bengaluru' \n",
    "    \n",
    "    def __init__(self,breed,size,age):\n",
    "        #instance variables\n",
    "        self.breed = breed\n",
    "        self.size = size\n",
    "        self.age = age"
   ]
  },
  {
   "cell_type": "code",
   "execution_count": 10,
   "id": "a157491f",
   "metadata": {},
   "outputs": [],
   "source": [
    "dog1 = Dog('Labrador','medium',2)"
   ]
  },
  {
   "cell_type": "code",
   "execution_count": 11,
   "id": "feb4cc0c",
   "metadata": {},
   "outputs": [
    {
     "data": {
      "text/plain": [
       "'mammal'"
      ]
     },
     "execution_count": 11,
     "metadata": {},
     "output_type": "execute_result"
    }
   ],
   "source": [
    "dog1.species"
   ]
  },
  {
   "cell_type": "code",
   "execution_count": 12,
   "id": "1d22be37",
   "metadata": {},
   "outputs": [
    {
     "data": {
      "text/plain": [
       "'Bengaluru'"
      ]
     },
     "execution_count": 12,
     "metadata": {},
     "output_type": "execute_result"
    }
   ],
   "source": [
    "dog1.city"
   ]
  },
  {
   "cell_type": "markdown",
   "id": "0e591dcd",
   "metadata": {},
   "source": [
    "# Note: you can access the class variables by using the classname itself ie.,\n",
    "\n",
    "-> ClassName.class_variable"
   ]
  },
  {
   "cell_type": "code",
   "execution_count": 13,
   "id": "4192b3b9",
   "metadata": {},
   "outputs": [
    {
     "data": {
      "text/plain": [
       "'mammal'"
      ]
     },
     "execution_count": 13,
     "metadata": {},
     "output_type": "execute_result"
    }
   ],
   "source": [
    "dog1.species"
   ]
  },
  {
   "cell_type": "code",
   "execution_count": 14,
   "id": "84db96ed",
   "metadata": {},
   "outputs": [
    {
     "data": {
      "text/plain": [
       "'Bengaluru'"
      ]
     },
     "execution_count": 14,
     "metadata": {},
     "output_type": "execute_result"
    }
   ],
   "source": [
    "dog1.city"
   ]
  },
  {
   "cell_type": "markdown",
   "id": "8d674a45",
   "metadata": {},
   "source": [
    "# Methods"
   ]
  },
  {
   "cell_type": "code",
   "execution_count": 18,
   "id": "83a65ff1",
   "metadata": {},
   "outputs": [],
   "source": [
    "class Dog:\n",
    "    #class variables\n",
    "    species = 'mammal'\n",
    "    \n",
    "    def __init__(self,breed,size,age):\n",
    "        #instance variables\n",
    "        self.breed = breed\n",
    "        self.size = size\n",
    "        self.age = age\n",
    "    \n",
    "    #without any parameters\n",
    "    def bark(self):\n",
    "        print('Boww Boww. I am '+self.breed)\n",
    "        \n",
    "    #with one parameter\n",
    "    def eat(self,food):\n",
    "        print('I will eat '+food)\n",
    "        \n",
    "    def sleep(self,hours = 4):\n",
    "        print(\"HI i am {} and I sleep for {} hours\".format(self.breed,hours))"
   ]
  },
  {
   "cell_type": "code",
   "execution_count": 16,
   "id": "60f546f9",
   "metadata": {},
   "outputs": [],
   "source": [
    "dog1 = Dog('Labrador','medium',2)"
   ]
  },
  {
   "cell_type": "code",
   "execution_count": 17,
   "id": "37818826",
   "metadata": {},
   "outputs": [
    {
     "name": "stdout",
     "output_type": "stream",
     "text": [
      "Boww Boww. I am Labrador\n"
     ]
    }
   ],
   "source": [
    "dog1.bark()"
   ]
  },
  {
   "cell_type": "code",
   "execution_count": 19,
   "id": "99e765e1",
   "metadata": {},
   "outputs": [
    {
     "name": "stdout",
     "output_type": "stream",
     "text": [
      "I will eat pedigree\n"
     ]
    }
   ],
   "source": [
    "dog1.eat('pedigree')"
   ]
  },
  {
   "cell_type": "code",
   "execution_count": 20,
   "id": "ea86d5b5",
   "metadata": {},
   "outputs": [
    {
     "name": "stdout",
     "output_type": "stream",
     "text": [
      "HI i am Labrador and I sleep for 4 hours\n"
     ]
    }
   ],
   "source": [
    "dog1.sleep(4)"
   ]
  },
  {
   "cell_type": "markdown",
   "id": "b52fa5dd",
   "metadata": {},
   "source": [
    "# Circle"
   ]
  },
  {
   "cell_type": "code",
   "execution_count": 21,
   "id": "64a31017",
   "metadata": {},
   "outputs": [],
   "source": [
    "class CircleClass:\n",
    "    #class variable\n",
    "    pie = 3.14\n",
    "    \n",
    "    def __init__(self,radius):\n",
    "        self.radius = radius\n",
    "        \n",
    "    def get_area(self):\n",
    "        return self.pie * self.radius * self.radius\n",
    "    \n",
    "    def get_circumference(self):\n",
    "        return 2 * self.pie * self.radius"
   ]
  },
  {
   "cell_type": "code",
   "execution_count": 22,
   "id": "dccfa026",
   "metadata": {},
   "outputs": [],
   "source": [
    "cir1 = CircleClass(10)\n",
    "cir2 = CircleClass(15)\n",
    "cir3 = CircleClass(20)"
   ]
  },
  {
   "cell_type": "code",
   "execution_count": 23,
   "id": "b0054a65",
   "metadata": {},
   "outputs": [
    {
     "data": {
      "text/plain": [
       "314.0"
      ]
     },
     "execution_count": 23,
     "metadata": {},
     "output_type": "execute_result"
    }
   ],
   "source": [
    "cir1.get_area()"
   ]
  },
  {
   "cell_type": "code",
   "execution_count": 24,
   "id": "f0430e84",
   "metadata": {},
   "outputs": [
    {
     "data": {
      "text/plain": [
       "706.5"
      ]
     },
     "execution_count": 24,
     "metadata": {},
     "output_type": "execute_result"
    }
   ],
   "source": [
    "cir2.get_area()"
   ]
  },
  {
   "cell_type": "code",
   "execution_count": 25,
   "id": "8967d4a2",
   "metadata": {},
   "outputs": [
    {
     "data": {
      "text/plain": [
       "1256.0"
      ]
     },
     "execution_count": 25,
     "metadata": {},
     "output_type": "execute_result"
    }
   ],
   "source": [
    "cir3.get_area()"
   ]
  },
  {
   "cell_type": "code",
   "execution_count": 26,
   "id": "2f68c440",
   "metadata": {},
   "outputs": [
    {
     "data": {
      "text/plain": [
       "62.800000000000004"
      ]
     },
     "execution_count": 26,
     "metadata": {},
     "output_type": "execute_result"
    }
   ],
   "source": [
    "cir1.get_circumference()"
   ]
  },
  {
   "cell_type": "code",
   "execution_count": 27,
   "id": "58d1c65d",
   "metadata": {},
   "outputs": [
    {
     "data": {
      "text/plain": [
       "94.2"
      ]
     },
     "execution_count": 27,
     "metadata": {},
     "output_type": "execute_result"
    }
   ],
   "source": [
    "cir2.get_circumference()"
   ]
  },
  {
   "cell_type": "code",
   "execution_count": 28,
   "id": "850beb4a",
   "metadata": {},
   "outputs": [
    {
     "data": {
      "text/plain": [
       "125.60000000000001"
      ]
     },
     "execution_count": 28,
     "metadata": {},
     "output_type": "execute_result"
    }
   ],
   "source": [
    "cir3.get_circumference()"
   ]
  },
  {
   "cell_type": "code",
   "execution_count": null,
   "id": "69544185",
   "metadata": {},
   "outputs": [],
   "source": []
  }
 ],
 "metadata": {
  "kernelspec": {
   "display_name": "Python 3",
   "language": "python",
   "name": "python3"
  },
  "language_info": {
   "codemirror_mode": {
    "name": "ipython",
    "version": 3
   },
   "file_extension": ".py",
   "mimetype": "text/x-python",
   "name": "python",
   "nbconvert_exporter": "python",
   "pygments_lexer": "ipython3",
   "version": "3.8.8"
  }
 },
 "nbformat": 4,
 "nbformat_minor": 5
}
