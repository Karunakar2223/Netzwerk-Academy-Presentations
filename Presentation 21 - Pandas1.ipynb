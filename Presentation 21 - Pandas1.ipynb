{
 "cells": [
  {
   "cell_type": "markdown",
   "id": "1e9c1fed",
   "metadata": {},
   "source": [
    "# Pandas1.\n",
    "\n",
    "--> It is the most sought out packages for data science.\n",
    "\n",
    "--> Pandas is used for data manipulation, analysis and cleaning.\n",
    "\n",
    "--> !install pandas.\n",
    "\n",
    "--> import pandas as pd."
   ]
  },
  {
   "cell_type": "markdown",
   "id": "cb25b5ed",
   "metadata": {},
   "source": [
    "Pandas deals with three data structures.\n",
    "\n",
    "1)series.\n",
    "\n",
    "2)dataframe.\n",
    "\n",
    "3)panel.\n"
   ]
  },
  {
   "cell_type": "markdown",
   "id": "b2a2a67e",
   "metadata": {},
   "source": [
    "# series.\n",
    "\n",
    "--> Series is a one-dimensional array like structure with homogeneous data.\n",
    "\n",
    "--> Creating Series.\n",
    "\n",
    "A series can be created using various inputs like −\n",
    "\n",
    "1) Array.\n",
    "\n",
    "2) Dict.\n",
    "\n",
    "3) Scalar value or constant"
   ]
  },
  {
   "cell_type": "code",
   "execution_count": 1,
   "id": "0fd055f6",
   "metadata": {},
   "outputs": [],
   "source": [
    "import pandas as pd\n",
    "import numpy as np"
   ]
  },
  {
   "cell_type": "code",
   "execution_count": 2,
   "id": "bceb7cad",
   "metadata": {},
   "outputs": [
    {
     "name": "stdout",
     "output_type": "stream",
     "text": [
      "['Reddy' 'Netzwerk' 'Banglore' 'Karnataka']\n"
     ]
    }
   ],
   "source": [
    "# 1) Array.\n",
    "#Without passing index\n",
    "#numpy array\n",
    "arr = np.array(['Reddy','Netzwerk','Banglore','Karnataka'])\n",
    "print(arr)"
   ]
  },
  {
   "cell_type": "code",
   "execution_count": 3,
   "id": "4c4d6545",
   "metadata": {},
   "outputs": [
    {
     "name": "stdout",
     "output_type": "stream",
     "text": [
      "0        Reddy\n",
      "1     Netzwerk\n",
      "2     Banglore\n",
      "3    Karnataka\n",
      "dtype: object\n"
     ]
    }
   ],
   "source": [
    "#creating the series using numpy array\n",
    "s = pd.Series(arr)\n",
    "print(s)"
   ]
  },
  {
   "cell_type": "code",
   "execution_count": 4,
   "id": "9cbf0a75",
   "metadata": {},
   "outputs": [
    {
     "data": {
      "text/plain": [
       "pandas.core.series.Series"
      ]
     },
     "execution_count": 4,
     "metadata": {},
     "output_type": "execute_result"
    }
   ],
   "source": [
    "#check the type\n",
    "type(s)"
   ]
  },
  {
   "cell_type": "code",
   "execution_count": 5,
   "id": "28768a6b",
   "metadata": {},
   "outputs": [
    {
     "data": {
      "text/plain": [
       "100        Reddy\n",
       "101     Netzwerk\n",
       "102     Banglore\n",
       "103    Karnataka\n",
       "dtype: object"
      ]
     },
     "execution_count": 5,
     "metadata": {},
     "output_type": "execute_result"
    }
   ],
   "source": [
    "#by passing index.\n",
    "#numpy array\n",
    "arr = np.array(['Reddy','Netzwerk','Banglore','Karnataka'])\n",
    "\n",
    "#creating series\n",
    "s = pd.Series(arr,index=[100,101,102,103])\n",
    "s"
   ]
  },
  {
   "cell_type": "code",
   "execution_count": 6,
   "id": "991e7f44",
   "metadata": {},
   "outputs": [
    {
     "data": {
      "text/plain": [
       "a    0\n",
       "b    1\n",
       "c    2\n",
       "dtype: int64"
      ]
     },
     "execution_count": 6,
     "metadata": {},
     "output_type": "execute_result"
    }
   ],
   "source": [
    "# 2) series from Dictionary.\n",
    "\n",
    "#here keys will be our default indexes\n",
    "data = {'a' : 0, 'b' : 1, 'c' : 2}\n",
    "s = pd.Series(data)\n",
    "s"
   ]
  },
  {
   "cell_type": "markdown",
   "id": "e1aac22a",
   "metadata": {},
   "source": [
    "# Dataframe.\n",
    "\n",
    "--> A dataframe is a 2d, size-mutable, potentially heterogeneous tabular column data."
   ]
  },
  {
   "cell_type": "code",
   "execution_count": 7,
   "id": "6b1c172e",
   "metadata": {},
   "outputs": [
    {
     "name": "stdout",
     "output_type": "stream",
     "text": [
      "Empty DataFrame\n",
      "Columns: []\n",
      "Index: []\n"
     ]
    }
   ],
   "source": [
    "# creating empty dataframe.\n",
    "# A basic DataFrame, which can be created is an Empty Dataframe.\n",
    "import pandas as pd\n",
    "df = pd.DataFrame()\n",
    "print(df)"
   ]
  },
  {
   "cell_type": "markdown",
   "id": "43576d10",
   "metadata": {},
   "source": [
    "-->Create a DataFrame from Dict of lists/ndArray.\n",
    "\n",
    "->All the ndarrays must be of same length."
   ]
  },
  {
   "cell_type": "code",
   "execution_count": 8,
   "id": "0feedc19",
   "metadata": {},
   "outputs": [
    {
     "name": "stdout",
     "output_type": "stream",
     "text": [
      "{'Name': ['CSK', 'RCB', 'MI', 'KKR'], 'Age': [10, 11, 12, 13]}\n"
     ]
    },
    {
     "data": {
      "text/html": [
       "<div>\n",
       "<style scoped>\n",
       "    .dataframe tbody tr th:only-of-type {\n",
       "        vertical-align: middle;\n",
       "    }\n",
       "\n",
       "    .dataframe tbody tr th {\n",
       "        vertical-align: top;\n",
       "    }\n",
       "\n",
       "    .dataframe thead th {\n",
       "        text-align: right;\n",
       "    }\n",
       "</style>\n",
       "<table border=\"1\" class=\"dataframe\">\n",
       "  <thead>\n",
       "    <tr style=\"text-align: right;\">\n",
       "      <th></th>\n",
       "      <th>Name</th>\n",
       "      <th>Age</th>\n",
       "    </tr>\n",
       "  </thead>\n",
       "  <tbody>\n",
       "    <tr>\n",
       "      <th>0</th>\n",
       "      <td>CSK</td>\n",
       "      <td>10</td>\n",
       "    </tr>\n",
       "    <tr>\n",
       "      <th>1</th>\n",
       "      <td>RCB</td>\n",
       "      <td>11</td>\n",
       "    </tr>\n",
       "    <tr>\n",
       "      <th>2</th>\n",
       "      <td>MI</td>\n",
       "      <td>12</td>\n",
       "    </tr>\n",
       "    <tr>\n",
       "      <th>3</th>\n",
       "      <td>KKR</td>\n",
       "      <td>13</td>\n",
       "    </tr>\n",
       "  </tbody>\n",
       "</table>\n",
       "</div>"
      ],
      "text/plain": [
       "  Name  Age\n",
       "0  CSK   10\n",
       "1  RCB   11\n",
       "2   MI   12\n",
       "3  KKR   13"
      ]
     },
     "execution_count": 8,
     "metadata": {},
     "output_type": "execute_result"
    }
   ],
   "source": [
    "# Ex1) without index\n",
    "name = ['CSK', 'RCB', 'MI', 'KKR']\n",
    "age = [10,11,12,13]\n",
    "\n",
    "# creating dictionary\n",
    "data = {'Name':name,'Age':age}\n",
    "print(data)\n",
    "# passing dictionary to create df\n",
    "df = pd.DataFrame(data)\n",
    "df"
   ]
  },
  {
   "cell_type": "code",
   "execution_count": 9,
   "id": "35de4313",
   "metadata": {},
   "outputs": [
    {
     "name": "stdout",
     "output_type": "stream",
     "text": [
      "{'Name': ['CSK', 'RCB', 'MI', 'KKR'], 'Age': [10, 11, 12, 13]}\n"
     ]
    },
    {
     "data": {
      "text/html": [
       "<div>\n",
       "<style scoped>\n",
       "    .dataframe tbody tr th:only-of-type {\n",
       "        vertical-align: middle;\n",
       "    }\n",
       "\n",
       "    .dataframe tbody tr th {\n",
       "        vertical-align: top;\n",
       "    }\n",
       "\n",
       "    .dataframe thead th {\n",
       "        text-align: right;\n",
       "    }\n",
       "</style>\n",
       "<table border=\"1\" class=\"dataframe\">\n",
       "  <thead>\n",
       "    <tr style=\"text-align: right;\">\n",
       "      <th></th>\n",
       "      <th>Name</th>\n",
       "      <th>Age</th>\n",
       "    </tr>\n",
       "  </thead>\n",
       "  <tbody>\n",
       "    <tr>\n",
       "      <th>rank1</th>\n",
       "      <td>CSK</td>\n",
       "      <td>10</td>\n",
       "    </tr>\n",
       "    <tr>\n",
       "      <th>rank2</th>\n",
       "      <td>RCB</td>\n",
       "      <td>11</td>\n",
       "    </tr>\n",
       "    <tr>\n",
       "      <th>rank3</th>\n",
       "      <td>MI</td>\n",
       "      <td>12</td>\n",
       "    </tr>\n",
       "    <tr>\n",
       "      <th>rank4</th>\n",
       "      <td>KKR</td>\n",
       "      <td>13</td>\n",
       "    </tr>\n",
       "  </tbody>\n",
       "</table>\n",
       "</div>"
      ],
      "text/plain": [
       "      Name  Age\n",
       "rank1  CSK   10\n",
       "rank2  RCB   11\n",
       "rank3   MI   12\n",
       "rank4  KKR   13"
      ]
     },
     "execution_count": 9,
     "metadata": {},
     "output_type": "execute_result"
    }
   ],
   "source": [
    "# Ex2) with index\n",
    "name = ['CSK', 'RCB', 'MI', 'KKR']\n",
    "age = [10,11,12,13]\n",
    "\n",
    "# my new indexes\n",
    "indexes = ['rank1','rank2','rank3','rank4']\n",
    "\n",
    "# creating dictionary\n",
    "data = {'Name':name,'Age':age}\n",
    "print(data)\n",
    "# passing dictionary to create df\n",
    "df = pd.DataFrame(data,index=indexes)\n",
    "df"
   ]
  },
  {
   "cell_type": "markdown",
   "id": "fa169b1b",
   "metadata": {},
   "source": [
    "Column Selection"
   ]
  },
  {
   "cell_type": "code",
   "execution_count": 10,
   "id": "b0b7e5b7",
   "metadata": {},
   "outputs": [
    {
     "data": {
      "text/plain": [
       "rank1    CSK\n",
       "rank2    RCB\n",
       "rank3     MI\n",
       "rank4    KKR\n",
       "Name: Name, dtype: object"
      ]
     },
     "execution_count": 10,
     "metadata": {},
     "output_type": "execute_result"
    }
   ],
   "source": [
    "df['Name']"
   ]
  },
  {
   "cell_type": "markdown",
   "id": "bf1d9d53",
   "metadata": {},
   "source": [
    "Column Addition"
   ]
  },
  {
   "cell_type": "code",
   "execution_count": 11,
   "id": "483f4471",
   "metadata": {},
   "outputs": [
    {
     "data": {
      "text/html": [
       "<div>\n",
       "<style scoped>\n",
       "    .dataframe tbody tr th:only-of-type {\n",
       "        vertical-align: middle;\n",
       "    }\n",
       "\n",
       "    .dataframe tbody tr th {\n",
       "        vertical-align: top;\n",
       "    }\n",
       "\n",
       "    .dataframe thead th {\n",
       "        text-align: right;\n",
       "    }\n",
       "</style>\n",
       "<table border=\"1\" class=\"dataframe\">\n",
       "  <thead>\n",
       "    <tr style=\"text-align: right;\">\n",
       "      <th></th>\n",
       "      <th>Name</th>\n",
       "      <th>Age</th>\n",
       "      <th>City</th>\n",
       "    </tr>\n",
       "  </thead>\n",
       "  <tbody>\n",
       "    <tr>\n",
       "      <th>rank1</th>\n",
       "      <td>CSK</td>\n",
       "      <td>10</td>\n",
       "      <td>Chennai</td>\n",
       "    </tr>\n",
       "    <tr>\n",
       "      <th>rank2</th>\n",
       "      <td>RCB</td>\n",
       "      <td>11</td>\n",
       "      <td>Banglore</td>\n",
       "    </tr>\n",
       "    <tr>\n",
       "      <th>rank3</th>\n",
       "      <td>MI</td>\n",
       "      <td>12</td>\n",
       "      <td>Mumbai</td>\n",
       "    </tr>\n",
       "    <tr>\n",
       "      <th>rank4</th>\n",
       "      <td>KKR</td>\n",
       "      <td>13</td>\n",
       "      <td>Kolkata</td>\n",
       "    </tr>\n",
       "  </tbody>\n",
       "</table>\n",
       "</div>"
      ],
      "text/plain": [
       "      Name  Age      City\n",
       "rank1  CSK   10   Chennai\n",
       "rank2  RCB   11  Banglore\n",
       "rank3   MI   12    Mumbai\n",
       "rank4  KKR   13   Kolkata"
      ]
     },
     "execution_count": 11,
     "metadata": {},
     "output_type": "execute_result"
    }
   ],
   "source": [
    "# say suppose you want to add city column \n",
    "city = ['Chennai','Banglore','Mumbai','Kolkata']\n",
    "\n",
    "#adding new column named 'City'\n",
    "df[\"City\"] = city\n",
    "df"
   ]
  },
  {
   "cell_type": "markdown",
   "id": "d50fe5f5",
   "metadata": {},
   "source": [
    "Column Deletion"
   ]
  },
  {
   "cell_type": "code",
   "execution_count": 12,
   "id": "2fd38e49",
   "metadata": {},
   "outputs": [],
   "source": [
    "# 1) Using del keyword\n",
    "del df[\"Age\"]"
   ]
  },
  {
   "cell_type": "code",
   "execution_count": 13,
   "id": "3db25723",
   "metadata": {},
   "outputs": [
    {
     "data": {
      "text/html": [
       "<div>\n",
       "<style scoped>\n",
       "    .dataframe tbody tr th:only-of-type {\n",
       "        vertical-align: middle;\n",
       "    }\n",
       "\n",
       "    .dataframe tbody tr th {\n",
       "        vertical-align: top;\n",
       "    }\n",
       "\n",
       "    .dataframe thead th {\n",
       "        text-align: right;\n",
       "    }\n",
       "</style>\n",
       "<table border=\"1\" class=\"dataframe\">\n",
       "  <thead>\n",
       "    <tr style=\"text-align: right;\">\n",
       "      <th></th>\n",
       "      <th>Name</th>\n",
       "      <th>City</th>\n",
       "    </tr>\n",
       "  </thead>\n",
       "  <tbody>\n",
       "    <tr>\n",
       "      <th>rank1</th>\n",
       "      <td>CSK</td>\n",
       "      <td>Chennai</td>\n",
       "    </tr>\n",
       "    <tr>\n",
       "      <th>rank2</th>\n",
       "      <td>RCB</td>\n",
       "      <td>Banglore</td>\n",
       "    </tr>\n",
       "    <tr>\n",
       "      <th>rank3</th>\n",
       "      <td>MI</td>\n",
       "      <td>Mumbai</td>\n",
       "    </tr>\n",
       "    <tr>\n",
       "      <th>rank4</th>\n",
       "      <td>KKR</td>\n",
       "      <td>Kolkata</td>\n",
       "    </tr>\n",
       "  </tbody>\n",
       "</table>\n",
       "</div>"
      ],
      "text/plain": [
       "      Name      City\n",
       "rank1  CSK   Chennai\n",
       "rank2  RCB  Banglore\n",
       "rank3   MI    Mumbai\n",
       "rank4  KKR   Kolkata"
      ]
     },
     "execution_count": 13,
     "metadata": {},
     "output_type": "execute_result"
    }
   ],
   "source": [
    "df"
   ]
  },
  {
   "cell_type": "code",
   "execution_count": null,
   "id": "ef6e81f7",
   "metadata": {},
   "outputs": [],
   "source": [
    "# we can use .pop() method also"
   ]
  }
 ],
 "metadata": {
  "kernelspec": {
   "display_name": "Python 3",
   "language": "python",
   "name": "python3"
  },
  "language_info": {
   "codemirror_mode": {
    "name": "ipython",
    "version": 3
   },
   "file_extension": ".py",
   "mimetype": "text/x-python",
   "name": "python",
   "nbconvert_exporter": "python",
   "pygments_lexer": "ipython3",
   "version": "3.8.8"
  }
 },
 "nbformat": 4,
 "nbformat_minor": 5
}
