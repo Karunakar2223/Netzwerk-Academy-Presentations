{
 "cells": [
  {
   "cell_type": "markdown",
   "id": "946c5e19",
   "metadata": {},
   "source": [
    "# Filter function\n",
    "\n",
    "->The filter function allows you to filter the elements based on the condition given in the function.\n",
    "\n",
    "->returns an filter object"
   ]
  },
  {
   "cell_type": "code",
   "execution_count": null,
   "id": "458fd430",
   "metadata": {},
   "outputs": [],
   "source": [
    "\"\"\"\n",
    "about filter function\n",
    "\n",
    "syntax ---->\n",
    "filter(function,sequence)\n",
    "\n",
    "it applies the function to all the elements in the sequences and \n",
    "retains only those elements which passes the specific conditions\n",
    "\n",
    "returns the filter object\n",
    "\"\"\""
   ]
  },
  {
   "cell_type": "code",
   "execution_count": 1,
   "id": "e05ae24d",
   "metadata": {},
   "outputs": [],
   "source": [
    "#Ex1) To filter the words starting with 'a'\n",
    "#Sequence\n",
    "words_list = ['apple','banana','airport','ant','cat']"
   ]
  },
  {
   "cell_type": "code",
   "execution_count": 2,
   "id": "b0857e19",
   "metadata": {},
   "outputs": [],
   "source": [
    "# function\n",
    "def starts_with_a(word):\n",
    "    if(word[0] == 'a'):\n",
    "        return True\n",
    "    else:\n",
    "        return False"
   ]
  },
  {
   "cell_type": "code",
   "execution_count": 3,
   "id": "55b5ee29",
   "metadata": {},
   "outputs": [
    {
     "data": {
      "text/plain": [
       "['apple', 'airport', 'ant']"
      ]
     },
     "execution_count": 3,
     "metadata": {},
     "output_type": "execute_result"
    }
   ],
   "source": [
    "list(filter(starts_with_a,words_list))  #['apple','airport','ant']"
   ]
  },
  {
   "cell_type": "code",
   "execution_count": 4,
   "id": "0b0962a8",
   "metadata": {},
   "outputs": [],
   "source": [
    "#Ex2) To filter only the even numbers\n",
    "# Sequence\n",
    "nums = [0,1,2,3,4,5,6,7,8,9,10]"
   ]
  },
  {
   "cell_type": "code",
   "execution_count": 5,
   "id": "65c7ff0b",
   "metadata": {},
   "outputs": [],
   "source": [
    "#function\n",
    "def check_even(num):\n",
    "    if(num%2==0):\n",
    "        return True\n",
    "    else:\n",
    "        return False\n",
    "    \n",
    "# def check_even(num):\n",
    "#     return num%2 == 0"
   ]
  },
  {
   "cell_type": "code",
   "execution_count": 6,
   "id": "80b4a1f5",
   "metadata": {},
   "outputs": [
    {
     "data": {
      "text/plain": [
       "[0, 2, 4, 6, 8, 10]"
      ]
     },
     "execution_count": 6,
     "metadata": {},
     "output_type": "execute_result"
    }
   ],
   "source": [
    "list(filter(check_even,nums))"
   ]
  },
  {
   "cell_type": "markdown",
   "id": "cd18d46f",
   "metadata": {},
   "source": [
    "# Note : the difference between filter and map"
   ]
  },
  {
   "cell_type": "code",
   "execution_count": 7,
   "id": "15e31922",
   "metadata": {},
   "outputs": [
    {
     "data": {
      "text/plain": [
       "[True, False, True, False, True, False, True, False, True, False, True]"
      ]
     },
     "execution_count": 7,
     "metadata": {},
     "output_type": "execute_result"
    }
   ],
   "source": [
    "# map\n",
    "list(map(check_even,nums))"
   ]
  },
  {
   "cell_type": "code",
   "execution_count": 8,
   "id": "66c3d1d2",
   "metadata": {},
   "outputs": [
    {
     "data": {
      "text/plain": [
       "[0, 2, 4, 6, 8, 10]"
      ]
     },
     "execution_count": 8,
     "metadata": {},
     "output_type": "execute_result"
    }
   ],
   "source": [
    "# filter\n",
    "list(filter(check_even,nums))"
   ]
  },
  {
   "cell_type": "markdown",
   "id": "d457edc2",
   "metadata": {},
   "source": [
    "# Using map() and filter() with lambda functions"
   ]
  },
  {
   "cell_type": "code",
   "execution_count": 9,
   "id": "ae133148",
   "metadata": {},
   "outputs": [
    {
     "data": {
      "text/plain": [
       "[1, 4, 9, 16, 25]"
      ]
     },
     "execution_count": 9,
     "metadata": {},
     "output_type": "execute_result"
    }
   ],
   "source": [
    "# Ex1) Square Ex\n",
    "# sequence\n",
    "my_nums = [1,2,3,4,5]\n",
    "\n",
    "# lambda with map function\n",
    "list(map(lambda num:num**2,my_nums))"
   ]
  },
  {
   "cell_type": "code",
   "execution_count": 10,
   "id": "78fd946a",
   "metadata": {},
   "outputs": [
    {
     "data": {
      "text/plain": [
       "<filter at 0x1f5ad77c040>"
      ]
     },
     "execution_count": 10,
     "metadata": {},
     "output_type": "execute_result"
    }
   ],
   "source": [
    "#EX2\n",
    "nums = [0,1,2,3,4,5,6,7,8,9,10]\n",
    "\n",
    "# filter with map function\n",
    "filter(lambda num:num%2 == 0,nums)"
   ]
  },
  {
   "cell_type": "code",
   "execution_count": 11,
   "id": "94218851",
   "metadata": {},
   "outputs": [
    {
     "name": "stdout",
     "output_type": "stream",
     "text": [
      "0\n",
      "2\n",
      "4\n",
      "6\n",
      "8\n",
      "10\n"
     ]
    }
   ],
   "source": [
    "for item in filter(lambda num:num%2 == 0,nums):\n",
    "    print(item)"
   ]
  },
  {
   "cell_type": "code",
   "execution_count": null,
   "id": "dec48dad",
   "metadata": {},
   "outputs": [],
   "source": []
  }
 ],
 "metadata": {
  "kernelspec": {
   "display_name": "Python 3",
   "language": "python",
   "name": "python3"
  },
  "language_info": {
   "codemirror_mode": {
    "name": "ipython",
    "version": 3
   },
   "file_extension": ".py",
   "mimetype": "text/x-python",
   "name": "python",
   "nbconvert_exporter": "python",
   "pygments_lexer": "ipython3",
   "version": "3.8.8"
  }
 },
 "nbformat": 4,
 "nbformat_minor": 5
}
