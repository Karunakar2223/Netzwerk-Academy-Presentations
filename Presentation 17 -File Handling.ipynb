{
 "cells": [
  {
   "cell_type": "markdown",
   "id": "41339c8c",
   "metadata": {},
   "source": [
    "# File Handling\n",
    "\n",
    "--> Python supports file handling and allows users to handle files i.e., to read and write files.\n",
    "\n",
    "\n",
    "-->we use open() function to do the file handling in python"
   ]
  },
  {
   "cell_type": "code",
   "execution_count": null,
   "id": "24688dec",
   "metadata": {},
   "outputs": [],
   "source": [
    "\"\"\"\n",
    "syntax --->\n",
    "open(filename,mode)\n",
    "\n",
    "filename - name of the file.\n",
    "mode - mode is used to specify what action you want to perform.\n",
    "\n",
    "mode can take the following values : \n",
    "\n",
    "\"r\" - Read - Default value. \n",
    "If the file is present, then it opens the file for reading.Else it will throw an error\n",
    "\n",
    "\"a\" - Append \n",
    "If the file is present, it opens the file for appending.Else creates the new file. \n",
    "\n",
    "\"w\" - Write \n",
    "If the file is present,it opens the file for writing.Else creates the new file.\n",
    "\n",
    "\"\"\""
   ]
  },
  {
   "cell_type": "markdown",
   "id": "cafd7739",
   "metadata": {},
   "source": [
    "Whenever you do the read/write operations follow these steps:\n",
    "\n",
    "1) open the file.\n",
    "\n",
    "2) do read/write operations.\n",
    "\n",
    "3) close the file."
   ]
  },
  {
   "cell_type": "markdown",
   "id": "940af335",
   "metadata": {},
   "source": [
    " To open and Read the files"
   ]
  },
  {
   "cell_type": "code",
   "execution_count": 1,
   "id": "5bc4106d",
   "metadata": {},
   "outputs": [],
   "source": [
    "file = open('MyFile.Txt.txt','r') #same as open('MyFile.txt')"
   ]
  },
  {
   "cell_type": "code",
   "execution_count": 2,
   "id": "583e6454",
   "metadata": {},
   "outputs": [
    {
     "data": {
      "text/plain": [
       "'Hello Aspirants\\nWelcome to Netzwerk Academy\\nWe wish you All the best'"
      ]
     },
     "execution_count": 2,
     "metadata": {},
     "output_type": "execute_result"
    }
   ],
   "source": [
    "# read\n",
    "file.read()"
   ]
  },
  {
   "cell_type": "code",
   "execution_count": 3,
   "id": "5ae41887",
   "metadata": {},
   "outputs": [
    {
     "data": {
      "text/plain": [
       "''"
      ]
     },
     "execution_count": 3,
     "metadata": {},
     "output_type": "execute_result"
    }
   ],
   "source": [
    "#trying to read again\n",
    "file.read()"
   ]
  },
  {
   "cell_type": "code",
   "execution_count": 4,
   "id": "735cbd55",
   "metadata": {},
   "outputs": [
    {
     "data": {
      "text/plain": [
       "0"
      ]
     },
     "execution_count": 4,
     "metadata": {},
     "output_type": "execute_result"
    }
   ],
   "source": [
    "#to take the cursor back to beginning of the text file, use seek()\n",
    "file.seek(0)"
   ]
  },
  {
   "cell_type": "code",
   "execution_count": 5,
   "id": "72b31aa9",
   "metadata": {},
   "outputs": [
    {
     "data": {
      "text/plain": [
       "'Hello Aspirants\\nWelcome to Netzwerk Academy\\nWe wish you All the best'"
      ]
     },
     "execution_count": 5,
     "metadata": {},
     "output_type": "execute_result"
    }
   ],
   "source": [
    "file.read()"
   ]
  },
  {
   "cell_type": "markdown",
   "id": "592efa60",
   "metadata": {},
   "source": [
    "Readline"
   ]
  },
  {
   "cell_type": "code",
   "execution_count": 6,
   "id": "e6812caa",
   "metadata": {},
   "outputs": [
    {
     "data": {
      "text/plain": [
       "'Hello Aspirants\\n'"
      ]
     },
     "execution_count": 6,
     "metadata": {},
     "output_type": "execute_result"
    }
   ],
   "source": [
    "file.seek(0)\n",
    "file.readline()"
   ]
  },
  {
   "cell_type": "code",
   "execution_count": 7,
   "id": "a2988df9",
   "metadata": {},
   "outputs": [
    {
     "data": {
      "text/plain": [
       "'Welcome to Netzwerk Academy\\n'"
      ]
     },
     "execution_count": 7,
     "metadata": {},
     "output_type": "execute_result"
    }
   ],
   "source": [
    "file.readline()"
   ]
  },
  {
   "cell_type": "code",
   "execution_count": 8,
   "id": "880d0019",
   "metadata": {},
   "outputs": [
    {
     "data": {
      "text/plain": [
       "'We wish you All the best'"
      ]
     },
     "execution_count": 8,
     "metadata": {},
     "output_type": "execute_result"
    }
   ],
   "source": [
    "file.readline()"
   ]
  },
  {
   "cell_type": "code",
   "execution_count": 9,
   "id": "0dc293b3",
   "metadata": {},
   "outputs": [
    {
     "data": {
      "text/plain": [
       "''"
      ]
     },
     "execution_count": 9,
     "metadata": {},
     "output_type": "execute_result"
    }
   ],
   "source": [
    "file.readline()"
   ]
  },
  {
   "cell_type": "code",
   "execution_count": 10,
   "id": "2cfa5639",
   "metadata": {},
   "outputs": [
    {
     "data": {
      "text/plain": [
       "0"
      ]
     },
     "execution_count": 10,
     "metadata": {},
     "output_type": "execute_result"
    }
   ],
   "source": [
    "file.seek(0)"
   ]
  },
  {
   "cell_type": "code",
   "execution_count": 11,
   "id": "bd916fa1",
   "metadata": {},
   "outputs": [
    {
     "name": "stdout",
     "output_type": "stream",
     "text": [
      "Hello Aspirants\n",
      "\n",
      "Welcome to Netzwerk Academy\n",
      "\n",
      "We wish you All the best\n"
     ]
    }
   ],
   "source": [
    "# you can use for loop to read all the lines\n",
    "for line in file:\n",
    "    print(line)"
   ]
  },
  {
   "cell_type": "code",
   "execution_count": 12,
   "id": "e8cc982e",
   "metadata": {},
   "outputs": [
    {
     "data": {
      "text/plain": [
       "0"
      ]
     },
     "execution_count": 12,
     "metadata": {},
     "output_type": "execute_result"
    }
   ],
   "source": [
    "file.seek(0)"
   ]
  },
  {
   "cell_type": "code",
   "execution_count": 13,
   "id": "d192b17c",
   "metadata": {},
   "outputs": [
    {
     "name": "stdout",
     "output_type": "stream",
     "text": [
      "['Hello Aspirants\\n', 'Welcome to Netzwerk Academy\\n', 'We wish you All the best']\n",
      "We wish you All the best\n"
     ]
    }
   ],
   "source": [
    "#To read perticular lines\n",
    "list1 = file.readlines()\n",
    "print(list1)\n",
    "#to get last line\n",
    "print(list1[-1])"
   ]
  },
  {
   "cell_type": "markdown",
   "id": "381c12a4",
   "metadata": {},
   "source": [
    "# Don't forget to close the files\n",
    "\n",
    "-->to close the files we use close() method"
   ]
  },
  {
   "cell_type": "code",
   "execution_count": 14,
   "id": "16eb6394",
   "metadata": {},
   "outputs": [],
   "source": [
    "file.close()"
   ]
  },
  {
   "cell_type": "code",
   "execution_count": 15,
   "id": "37243d3d",
   "metadata": {},
   "outputs": [
    {
     "ename": "ValueError",
     "evalue": "I/O operation on closed file.",
     "output_type": "error",
     "traceback": [
      "\u001b[1;31m---------------------------------------------------------------------------\u001b[0m",
      "\u001b[1;31mValueError\u001b[0m                                Traceback (most recent call last)",
      "\u001b[1;32m<ipython-input-15-81d12287316f>\u001b[0m in \u001b[0;36m<module>\u001b[1;34m\u001b[0m\n\u001b[0;32m      1\u001b[0m \u001b[1;31m#You cannot do read write operations on closed files\u001b[0m\u001b[1;33m\u001b[0m\u001b[1;33m\u001b[0m\u001b[1;33m\u001b[0m\u001b[0m\n\u001b[1;32m----> 2\u001b[1;33m \u001b[0mfile\u001b[0m\u001b[1;33m.\u001b[0m\u001b[0mread\u001b[0m\u001b[1;33m(\u001b[0m\u001b[1;33m)\u001b[0m \u001b[1;31m#Error\u001b[0m\u001b[1;33m\u001b[0m\u001b[1;33m\u001b[0m\u001b[0m\n\u001b[0m",
      "\u001b[1;31mValueError\u001b[0m: I/O operation on closed file."
     ]
    }
   ],
   "source": [
    "#You cannot do read write operations on closed files\n",
    "file.read() #Error"
   ]
  },
  {
   "cell_type": "markdown",
   "id": "73964f31",
   "metadata": {},
   "source": [
    " # To write to an existing file.\n",
    " \n",
    "we use write() method to write to a file\n",
    "\n",
    "-->use mode = 'a' - append\n",
    "\n",
    "\n",
    "-->use mode = 'w' - write"
   ]
  },
  {
   "cell_type": "code",
   "execution_count": 16,
   "id": "c4afc04b",
   "metadata": {},
   "outputs": [],
   "source": [
    "# Appending\n",
    "# appending one line\n",
    "file = open('MyFile.Txt.txt','a')\n",
    "file.write('I am appending sentence 4')\n",
    "file.close()"
   ]
  },
  {
   "cell_type": "code",
   "execution_count": 17,
   "id": "560860a6",
   "metadata": {},
   "outputs": [
    {
     "name": "stdout",
     "output_type": "stream",
     "text": [
      "Hello Aspirants\n",
      "Welcome to Netzwerk Academy\n",
      "We wish you All the bestI am appending sentence 4\n"
     ]
    }
   ],
   "source": [
    "# reading the file after modifying\n",
    "file = open('MyFile.Txt.txt')\n",
    "print(file.read())\n",
    "file.close()"
   ]
  },
  {
   "cell_type": "markdown",
   "id": "eec4947f",
   "metadata": {},
   "source": [
    "Writing to new file"
   ]
  },
  {
   "cell_type": "code",
   "execution_count": 18,
   "id": "59a24fb4",
   "metadata": {},
   "outputs": [],
   "source": [
    "# to an existing file\n",
    "file = open('MyFile.Txt.txt','w')\n",
    "file.write('Hi I am a new sentence')\n",
    "file.close()"
   ]
  },
  {
   "cell_type": "code",
   "execution_count": 19,
   "id": "aa11532b",
   "metadata": {},
   "outputs": [
    {
     "name": "stdout",
     "output_type": "stream",
     "text": [
      "Hi I am a new sentence\n"
     ]
    }
   ],
   "source": [
    "file = open('MyFile.Txt.txt')\n",
    "print(file.read())\n",
    "file.close()"
   ]
  },
  {
   "cell_type": "markdown",
   "id": "6d018c2d",
   "metadata": {},
   "source": [
    "# With statement\n",
    "\n",
    "--> When we use with statement for handling files, all the cleanup will be automatically done"
   ]
  },
  {
   "cell_type": "code",
   "execution_count": null,
   "id": "10454f2a",
   "metadata": {},
   "outputs": [],
   "source": [
    "\"\"\"\n",
    "syntax\n",
    "\n",
    "with open(filename,mode) as file:\n",
    "    do read / write operations\n",
    "\"\"\""
   ]
  },
  {
   "cell_type": "code",
   "execution_count": 20,
   "id": "42e708c4",
   "metadata": {},
   "outputs": [
    {
     "name": "stdout",
     "output_type": "stream",
     "text": [
      "Hi I am a new sentence\n"
     ]
    }
   ],
   "source": [
    "#Ex1) reading the files using  with open\n",
    "with open('MyFile.Txt.txt') as file:\n",
    "    data = file.read()\n",
    "    print(data)"
   ]
  },
  {
   "cell_type": "code",
   "execution_count": 21,
   "id": "dfe722b9",
   "metadata": {},
   "outputs": [
    {
     "ename": "ValueError",
     "evalue": "I/O operation on closed file.",
     "output_type": "error",
     "traceback": [
      "\u001b[1;31m---------------------------------------------------------------------------\u001b[0m",
      "\u001b[1;31mValueError\u001b[0m                                Traceback (most recent call last)",
      "\u001b[1;32m<ipython-input-21-a2938957150f>\u001b[0m in \u001b[0;36m<module>\u001b[1;34m\u001b[0m\n\u001b[1;32m----> 1\u001b[1;33m \u001b[0mfile\u001b[0m\u001b[1;33m.\u001b[0m\u001b[0mread\u001b[0m\u001b[1;33m(\u001b[0m\u001b[1;33m)\u001b[0m \u001b[1;31m#Error because the file is already closed\u001b[0m\u001b[1;33m\u001b[0m\u001b[1;33m\u001b[0m\u001b[0m\n\u001b[0m",
      "\u001b[1;31mValueError\u001b[0m: I/O operation on closed file."
     ]
    }
   ],
   "source": [
    "file.read() #Error because the file is already closed"
   ]
  },
  {
   "cell_type": "code",
   "execution_count": 22,
   "id": "7c154302",
   "metadata": {},
   "outputs": [],
   "source": [
    "# to append\n",
    "with open('MyFile.Txt.txt','a') as file:\n",
    "    file.write('\\nI am sentence 2')"
   ]
  },
  {
   "cell_type": "code",
   "execution_count": 23,
   "id": "b9504bc1",
   "metadata": {},
   "outputs": [],
   "source": [
    "# to write\n",
    "with open('MyFile2223.txt','w') as file:\n",
    "    file.write('I am a new file')"
   ]
  },
  {
   "cell_type": "code",
   "execution_count": null,
   "id": "de3560a8",
   "metadata": {},
   "outputs": [],
   "source": []
  }
 ],
 "metadata": {
  "kernelspec": {
   "display_name": "Python 3",
   "language": "python",
   "name": "python3"
  },
  "language_info": {
   "codemirror_mode": {
    "name": "ipython",
    "version": 3
   },
   "file_extension": ".py",
   "mimetype": "text/x-python",
   "name": "python",
   "nbconvert_exporter": "python",
   "pygments_lexer": "ipython3",
   "version": "3.8.8"
  }
 },
 "nbformat": 4,
 "nbformat_minor": 5
}
