{
 "cells": [
  {
   "cell_type": "markdown",
   "id": "a381c888",
   "metadata": {},
   "source": [
    "# Operators In Python\n",
    "\n",
    "1) Arithematic operators\n",
    "\n",
    "2) Assignment Operators\n",
    "\n",
    "3) Comparision Operators\n",
    "\n",
    "4) Logical Operators"
   ]
  },
  {
   "cell_type": "markdown",
   "id": "0e385813",
   "metadata": {},
   "source": [
    "# 1) Arithematic Operators (+, -, *, /, //, %, **)\n",
    "\n",
    "These operators are used to do Calculations."
   ]
  },
  {
   "cell_type": "code",
   "execution_count": 1,
   "id": "0d58d2cd",
   "metadata": {},
   "outputs": [
    {
     "name": "stdout",
     "output_type": "stream",
     "text": [
      "6\n"
     ]
    }
   ],
   "source": [
    "# addition\n",
    "x=2\n",
    "y=4\n",
    "print(x+y)"
   ]
  },
  {
   "cell_type": "code",
   "execution_count": 2,
   "id": "07ea23a7",
   "metadata": {},
   "outputs": [
    {
     "name": "stdout",
     "output_type": "stream",
     "text": [
      "-2\n"
     ]
    }
   ],
   "source": [
    "# subtraction\n",
    "print(x-y)"
   ]
  },
  {
   "cell_type": "code",
   "execution_count": 3,
   "id": "f1bfff7b",
   "metadata": {},
   "outputs": [
    {
     "name": "stdout",
     "output_type": "stream",
     "text": [
      "8\n"
     ]
    }
   ],
   "source": [
    "# multiplication\n",
    "print(x*y)"
   ]
  },
  {
   "cell_type": "code",
   "execution_count": 4,
   "id": "031f60d8",
   "metadata": {},
   "outputs": [
    {
     "name": "stdout",
     "output_type": "stream",
     "text": [
      "0.5\n"
     ]
    }
   ],
   "source": [
    "# division\n",
    "print(x/y)"
   ]
  },
  {
   "cell_type": "code",
   "execution_count": 5,
   "id": "28e22a43",
   "metadata": {},
   "outputs": [
    {
     "name": "stdout",
     "output_type": "stream",
     "text": [
      "0\n"
     ]
    }
   ],
   "source": [
    "# floor division\n",
    "print(x//y)"
   ]
  },
  {
   "cell_type": "code",
   "execution_count": 6,
   "id": "c79ae403",
   "metadata": {},
   "outputs": [
    {
     "name": "stdout",
     "output_type": "stream",
     "text": [
      "2\n"
     ]
    }
   ],
   "source": [
    "# remainder\n",
    "print(x%y)"
   ]
  },
  {
   "cell_type": "code",
   "execution_count": 7,
   "id": "112efab2",
   "metadata": {},
   "outputs": [
    {
     "name": "stdout",
     "output_type": "stream",
     "text": [
      "16\n"
     ]
    }
   ],
   "source": [
    "# exponential\n",
    "print(x**y)"
   ]
  },
  {
   "cell_type": "markdown",
   "id": "e4c5dbc2",
   "metadata": {},
   "source": [
    "# 2) Assignment Operators (=, +=, -=, *=, /=)\n",
    "\n",
    "Assigns the values"
   ]
  },
  {
   "cell_type": "code",
   "execution_count": 8,
   "id": "a3aec64e",
   "metadata": {},
   "outputs": [
    {
     "data": {
      "text/plain": [
       "22"
      ]
     },
     "execution_count": 8,
     "metadata": {},
     "output_type": "execute_result"
    }
   ],
   "source": [
    "x=22\n",
    "x"
   ]
  },
  {
   "cell_type": "code",
   "execution_count": 9,
   "id": "8b21f03e",
   "metadata": {},
   "outputs": [
    {
     "data": {
      "text/plain": [
       "24"
      ]
     },
     "execution_count": 9,
     "metadata": {},
     "output_type": "execute_result"
    }
   ],
   "source": [
    "x=x+2\n",
    "x"
   ]
  },
  {
   "cell_type": "code",
   "execution_count": 10,
   "id": "d08f5f59",
   "metadata": {},
   "outputs": [
    {
     "data": {
      "text/plain": [
       "26"
      ]
     },
     "execution_count": 10,
     "metadata": {},
     "output_type": "execute_result"
    }
   ],
   "source": [
    "x +=2 # x=x+2\n",
    "x"
   ]
  },
  {
   "cell_type": "code",
   "execution_count": 11,
   "id": "3e6657ef",
   "metadata": {},
   "outputs": [
    {
     "data": {
      "text/plain": [
       "24"
      ]
     },
     "execution_count": 11,
     "metadata": {},
     "output_type": "execute_result"
    }
   ],
   "source": [
    "x -=2 # x=x-2\n",
    "x"
   ]
  },
  {
   "cell_type": "code",
   "execution_count": 12,
   "id": "a2281f0a",
   "metadata": {},
   "outputs": [
    {
     "data": {
      "text/plain": [
       "48"
      ]
     },
     "execution_count": 12,
     "metadata": {},
     "output_type": "execute_result"
    }
   ],
   "source": [
    "x *=2 # x=x*2\n",
    "x"
   ]
  },
  {
   "cell_type": "code",
   "execution_count": 13,
   "id": "3e6d1043",
   "metadata": {},
   "outputs": [
    {
     "data": {
      "text/plain": [
       "24.0"
      ]
     },
     "execution_count": 13,
     "metadata": {},
     "output_type": "execute_result"
    }
   ],
   "source": [
    "x /=2 # x=x/2\n",
    "x"
   ]
  },
  {
   "cell_type": "markdown",
   "id": "37c116ad",
   "metadata": {},
   "source": [
    "# 3) Comparision Operators ( == , != , > , < , >= , <= )\n",
    "\n",
    "-> These operators returns the boolean values i.e.,either True or False\n",
    "\n"
   ]
  },
  {
   "cell_type": "code",
   "execution_count": 14,
   "id": "1b8ffd95",
   "metadata": {},
   "outputs": [
    {
     "data": {
      "text/plain": [
       "False"
      ]
     },
     "execution_count": 14,
     "metadata": {},
     "output_type": "execute_result"
    }
   ],
   "source": [
    "x=2\n",
    "y=3\n",
    "x==y"
   ]
  },
  {
   "cell_type": "code",
   "execution_count": 15,
   "id": "419a73be",
   "metadata": {},
   "outputs": [
    {
     "data": {
      "text/plain": [
       "True"
      ]
     },
     "execution_count": 15,
     "metadata": {},
     "output_type": "execute_result"
    }
   ],
   "source": [
    "x!=y"
   ]
  },
  {
   "cell_type": "code",
   "execution_count": 16,
   "id": "cf7e11b3",
   "metadata": {},
   "outputs": [
    {
     "data": {
      "text/plain": [
       "False"
      ]
     },
     "execution_count": 16,
     "metadata": {},
     "output_type": "execute_result"
    }
   ],
   "source": [
    "x>y"
   ]
  },
  {
   "cell_type": "code",
   "execution_count": 17,
   "id": "5ceb26c6",
   "metadata": {},
   "outputs": [
    {
     "data": {
      "text/plain": [
       "True"
      ]
     },
     "execution_count": 17,
     "metadata": {},
     "output_type": "execute_result"
    }
   ],
   "source": [
    "x<y"
   ]
  },
  {
   "cell_type": "code",
   "execution_count": 18,
   "id": "73207798",
   "metadata": {},
   "outputs": [
    {
     "data": {
      "text/plain": [
       "False"
      ]
     },
     "execution_count": 18,
     "metadata": {},
     "output_type": "execute_result"
    }
   ],
   "source": [
    "x>=y"
   ]
  },
  {
   "cell_type": "code",
   "execution_count": 19,
   "id": "12d5c41e",
   "metadata": {},
   "outputs": [
    {
     "data": {
      "text/plain": [
       "True"
      ]
     },
     "execution_count": 19,
     "metadata": {},
     "output_type": "execute_result"
    }
   ],
   "source": [
    "x<=y"
   ]
  },
  {
   "cell_type": "markdown",
   "id": "35850701",
   "metadata": {},
   "source": [
    "# 4) Logical Operators  ( or , and , not )\n"
   ]
  },
  {
   "cell_type": "code",
   "execution_count": null,
   "id": "890843d3",
   "metadata": {},
   "outputs": [],
   "source": [
    "#For logical operators following condition are applied.\n",
    "\n",
    "# For AND operator – It returns TRUE if both the operands (right side and left side) are true\n",
    "# For OR operator- It returns TRUE if either of the operand (right side or left side) is true\n",
    "# For NOT operator- returns TRUE if operand is false"
   ]
  },
  {
   "cell_type": "code",
   "execution_count": 21,
   "id": "50b4635d",
   "metadata": {},
   "outputs": [],
   "source": [
    "x=True\n",
    "y=False"
   ]
  },
  {
   "cell_type": "code",
   "execution_count": 22,
   "id": "b6bb8377",
   "metadata": {},
   "outputs": [
    {
     "data": {
      "text/plain": [
       "False"
      ]
     },
     "execution_count": 22,
     "metadata": {},
     "output_type": "execute_result"
    }
   ],
   "source": [
    "x and y"
   ]
  },
  {
   "cell_type": "code",
   "execution_count": 23,
   "id": "268d16a1",
   "metadata": {},
   "outputs": [
    {
     "data": {
      "text/plain": [
       "True"
      ]
     },
     "execution_count": 23,
     "metadata": {},
     "output_type": "execute_result"
    }
   ],
   "source": [
    "x or y"
   ]
  },
  {
   "cell_type": "code",
   "execution_count": 24,
   "id": "a49e912a",
   "metadata": {},
   "outputs": [
    {
     "data": {
      "text/plain": [
       "False"
      ]
     },
     "execution_count": 24,
     "metadata": {},
     "output_type": "execute_result"
    }
   ],
   "source": [
    "not x"
   ]
  },
  {
   "cell_type": "code",
   "execution_count": null,
   "id": "a35fd95b",
   "metadata": {},
   "outputs": [],
   "source": []
  }
 ],
 "metadata": {
  "kernelspec": {
   "display_name": "Python 3",
   "language": "python",
   "name": "python3"
  },
  "language_info": {
   "codemirror_mode": {
    "name": "ipython",
    "version": 3
   },
   "file_extension": ".py",
   "mimetype": "text/x-python",
   "name": "python",
   "nbconvert_exporter": "python",
   "pygments_lexer": "ipython3",
   "version": "3.8.8"
  }
 },
 "nbformat": 4,
 "nbformat_minor": 5
}
