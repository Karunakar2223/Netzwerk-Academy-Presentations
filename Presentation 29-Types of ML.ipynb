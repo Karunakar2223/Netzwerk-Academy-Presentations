{
 "cells": [
  {
   "cell_type": "markdown",
   "id": "45fd73d3",
   "metadata": {},
   "source": [
    "# Types Of Machine Learning."
   ]
  },
  {
   "cell_type": "markdown",
   "id": "283c4eb8",
   "metadata": {},
   "source": [
    "1) Supervised Learning.\n",
    "\n",
    "a)Classification=The output variable must be a discrete value.\n",
    "\n",
    "b)Regression=The output variable must be of continuous nature or real value."
   ]
  },
  {
   "cell_type": "markdown",
   "id": "d286564b",
   "metadata": {},
   "source": [
    "2) Unsupervised Learning.\n",
    "\n",
    "a)Clustering=Grouping of data points."
   ]
  },
  {
   "cell_type": "markdown",
   "id": "f0cf1036",
   "metadata": {},
   "source": [
    "## 1) Supervised Learning."
   ]
  },
  {
   "cell_type": "markdown",
   "id": "95a40d53",
   "metadata": {},
   "source": [
    "-->It is a method in which we teach the machine using labeled data.\n",
    "\n",
    "-->Uses training dataset which is smaller part of the bigger dataset and serves to give the algorithm a basic idea of the problem, solution, and datapoints to be dealt with.\n",
    "\n",
    "-->Training dataset is similar to final dataset in its characteristics and provides the algorithm with the labeled parameters required for the problem."
   ]
  },
  {
   "cell_type": "markdown",
   "id": "3f081e4e",
   "metadata": {},
   "source": [
    "## 2) Unsupervised Learning."
   ]
  },
  {
   "cell_type": "markdown",
   "id": "4cae5869",
   "metadata": {},
   "source": [
    "-->It is a method in which we teach the machine using unlabeled data.\n",
    "\n",
    "-->It does't have labels to workoff, resulting in the creation of hidden structures.\n",
    "\n",
    "-->Relationship between data points are perceived by the algorithm in an abstract manner, with no input required from human beings."
   ]
  },
  {
   "cell_type": "markdown",
   "id": "3c741ba1",
   "metadata": {},
   "source": [
    "# Algorithms:\n",
    "\n",
    "-->A process or set of rules to be followed in calculations or other problem-solving operations, especially by a computer.\n",
    "\n",
    "a)Classification Algorithm.\n",
    "\n",
    "b)Regression Algorithm.\n",
    "\n",
    "c)Clustering Algorithm."
   ]
  },
  {
   "cell_type": "markdown",
   "id": "15ec7256",
   "metadata": {},
   "source": [
    "a)Classification Algorithm :\n",
    "\n",
    "-->Used to clasify a record.\n",
    "\n",
    "-->It is used for questions which can have only a limited number of answers.\n",
    "\n",
    "-->When you have only two choices, its called 2 class classification,if you have more than 2 choices its called Multi Class Classification.\n",
    "\n",
    "\n",
    "Example:1) Is it cold?  Yes or No\n",
    "\n",
    "2)Will you go to work today?  Yes,NO or Maybe."
   ]
  },
  {
   "cell_type": "markdown",
   "id": "183e23db",
   "metadata": {},
   "source": [
    "b)Regression Algorithm :\n",
    "\n",
    "-->Used to calculate numeric values.\n",
    "\n",
    "Example:\n",
    "\n",
    "1)What will the temperature be tomorrow?\n",
    "\n",
    "2)How much discount can you give on a particular item?"
   ]
  },
  {
   "cell_type": "markdown",
   "id": "f52fff7d",
   "metadata": {},
   "source": [
    "c)Clustering Algorithm :\n",
    "\n",
    "-->Helps you to understand the structure of a dataset.\n",
    "\n",
    "-->These algorithms seperates the data into groups or clusters, to ease out the interpretation of the data.\n",
    "\n",
    "-->By understanding,how data is organized, you can predict the behaviour of a particular event."
   ]
  }
 ],
 "metadata": {
  "kernelspec": {
   "display_name": "Python 3",
   "language": "python",
   "name": "python3"
  },
  "language_info": {
   "codemirror_mode": {
    "name": "ipython",
    "version": 3
   },
   "file_extension": ".py",
   "mimetype": "text/x-python",
   "name": "python",
   "nbconvert_exporter": "python",
   "pygments_lexer": "ipython3",
   "version": "3.8.8"
  }
 },
 "nbformat": 4,
 "nbformat_minor": 5
}
