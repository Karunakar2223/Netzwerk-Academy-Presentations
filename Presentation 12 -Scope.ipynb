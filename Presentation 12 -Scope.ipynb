{
 "cells": [
  {
   "cell_type": "markdown",
   "id": "1f4f1c06",
   "metadata": {},
   "source": [
    "# Scope\n",
    "\n",
    "-> A variable is only available from inside the region it is created. This is called scope."
   ]
  },
  {
   "cell_type": "markdown",
   "id": "64c5049e",
   "metadata": {},
   "source": [
    "# Local scope\n",
    "\n",
    "->A variable created inside a function belongs to the local scope of that function, and can only be used inside that function."
   ]
  },
  {
   "cell_type": "code",
   "execution_count": 1,
   "id": "24a2d628",
   "metadata": {},
   "outputs": [
    {
     "ename": "NameError",
     "evalue": "name 'x' is not defined",
     "output_type": "error",
     "traceback": [
      "\u001b[1;31m---------------------------------------------------------------------------\u001b[0m",
      "\u001b[1;31mNameError\u001b[0m                                 Traceback (most recent call last)",
      "\u001b[1;32m<ipython-input-1-e11570febfdf>\u001b[0m in \u001b[0;36m<module>\u001b[1;34m\u001b[0m\n\u001b[0;32m      4\u001b[0m \u001b[1;33m\u001b[0m\u001b[0m\n\u001b[0;32m      5\u001b[0m \u001b[1;31m#outside the function\u001b[0m\u001b[1;33m\u001b[0m\u001b[1;33m\u001b[0m\u001b[1;33m\u001b[0m\u001b[0m\n\u001b[1;32m----> 6\u001b[1;33m \u001b[0mprint\u001b[0m\u001b[1;33m(\u001b[0m\u001b[0mx\u001b[0m\u001b[1;33m)\u001b[0m\u001b[1;33m\u001b[0m\u001b[1;33m\u001b[0m\u001b[0m\n\u001b[0m",
      "\u001b[1;31mNameError\u001b[0m: name 'x' is not defined"
     ]
    }
   ],
   "source": [
    "def func1():\n",
    "    x = 22\n",
    "    print(x)\n",
    "\n",
    "#outside the function\n",
    "print(x)"
   ]
  },
  {
   "cell_type": "markdown",
   "id": "ec6206ac",
   "metadata": {},
   "source": [
    "# Enclosing scope\n",
    "\n",
    "-> Inner functions can have access to the outer or enclosing function's variables"
   ]
  },
  {
   "cell_type": "code",
   "execution_count": 2,
   "id": "92adc3b4",
   "metadata": {},
   "outputs": [
    {
     "name": "stdout",
     "output_type": "stream",
     "text": [
      "Outer function  2223\n",
      "Inner function  2223\n"
     ]
    }
   ],
   "source": [
    "def outer_func():\n",
    "    x = 2223\n",
    "    print('Outer function ',x)\n",
    "    def inner_fun():\n",
    "        print('Inner function ',x) \n",
    "    \n",
    "    inner_fun()\n",
    "\n",
    "outer_func()"
   ]
  },
  {
   "cell_type": "markdown",
   "id": "17e89079",
   "metadata": {},
   "source": [
    "# Global scope\n",
    "\n",
    "-> A variable created in the main body of the Python code is a global variable and belongs to the global scope. Global variables are available from within any scope, global and local."
   ]
  },
  {
   "cell_type": "code",
   "execution_count": 3,
   "id": "df301ef5",
   "metadata": {},
   "outputs": [
    {
     "name": "stdout",
     "output_type": "stream",
     "text": [
      "Global :  2223\n",
      "my_func :  2223\n",
      "my_inner_fun :  2223\n"
     ]
    }
   ],
   "source": [
    "x = 2223\n",
    "\n",
    "def my_func():\n",
    "    \n",
    "    print('my_func : ',x)\n",
    "    \n",
    "    def my_inner_fun():\n",
    "        print('my_inner_fun : ',x)\n",
    "        \n",
    "    my_inner_fun()\n",
    "    \n",
    "print('Global : ',x)\n",
    "\n",
    "my_func()"
   ]
  },
  {
   "cell_type": "markdown",
   "id": "cd632f5b",
   "metadata": {},
   "source": [
    "# How to change global variables inside functions"
   ]
  },
  {
   "cell_type": "code",
   "execution_count": 4,
   "id": "eea1f22a",
   "metadata": {},
   "outputs": [
    {
     "name": "stdout",
     "output_type": "stream",
     "text": [
      "local  2229\n",
      "GLobal 2223\n"
     ]
    }
   ],
   "source": [
    "x = 2223\n",
    "\n",
    "def my_fun():\n",
    "    x = 2229\n",
    "    print('local ',x)\n",
    "\n",
    "my_fun()\n",
    "print('GLobal',x)"
   ]
  },
  {
   "cell_type": "markdown",
   "id": "e50fc682",
   "metadata": {},
   "source": [
    "# Global keyword"
   ]
  },
  {
   "cell_type": "code",
   "execution_count": 5,
   "id": "4943bf84",
   "metadata": {},
   "outputs": [
    {
     "name": "stdout",
     "output_type": "stream",
     "text": [
      "local  2229\n",
      "GLobal 2223\n"
     ]
    }
   ],
   "source": [
    "x1 = 2223\n",
    "\n",
    "def my_fun():\n",
    "    global x\n",
    "    x = 2229\n",
    "    print('local ',x)\n",
    "    \n",
    "my_fun()\n",
    "\n",
    "print('GLobal',x1)"
   ]
  },
  {
   "cell_type": "markdown",
   "id": "2723c93b",
   "metadata": {},
   "source": [
    "# Order of Execution ---> Local,Enclosing,Global"
   ]
  },
  {
   "cell_type": "code",
   "execution_count": 6,
   "id": "d5deed1e",
   "metadata": {},
   "outputs": [
    {
     "name": "stdout",
     "output_type": "stream",
     "text": [
      "Value of y global =  2223\n",
      "Value of y in func1=  222\n",
      "Value of y in func2=  22\n",
      "Value of y =  2\n"
     ]
    }
   ],
   "source": [
    "y = 2223\n",
    "\n",
    "def func1():\n",
    "    y = 222\n",
    "    print('Value of y in func1= ', y )\n",
    "    \n",
    "    def func2():\n",
    "        y = 22\n",
    "        print('Value of y in func2= ', y )\n",
    "        \n",
    "        def func3():\n",
    "            y = 2\n",
    "            print('Value of y = ', y )\n",
    "        \n",
    "        func3()\n",
    "    \n",
    "    func2()\n",
    "    \n",
    "print('Value of y global = ', y )\n",
    "func1()"
   ]
  },
  {
   "cell_type": "code",
   "execution_count": null,
   "id": "f3c85341",
   "metadata": {},
   "outputs": [],
   "source": []
  }
 ],
 "metadata": {
  "kernelspec": {
   "display_name": "Python 3",
   "language": "python",
   "name": "python3"
  },
  "language_info": {
   "codemirror_mode": {
    "name": "ipython",
    "version": 3
   },
   "file_extension": ".py",
   "mimetype": "text/x-python",
   "name": "python",
   "nbconvert_exporter": "python",
   "pygments_lexer": "ipython3",
   "version": "3.8.8"
  }
 },
 "nbformat": 4,
 "nbformat_minor": 5
}
