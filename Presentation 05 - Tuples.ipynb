{
 "cells": [
  {
   "cell_type": "markdown",
   "id": "9559f63a",
   "metadata": {},
   "source": [
    "# Tuples"
   ]
  },
  {
   "cell_type": "code",
   "execution_count": 1,
   "id": "1d5e7e31",
   "metadata": {},
   "outputs": [
    {
     "name": "stdout",
     "output_type": "stream",
     "text": [
      "(23, 'june', 'Netzwerk', 'Banglore', True, False)\n",
      "<class 'tuple'>\n",
      "<class 'tuple'>\n"
     ]
    }
   ],
   "source": [
    "# In python, tuples written in round brackets.\n",
    "\n",
    "# Can store different data types.\n",
    "# Order is retained\n",
    "# Indexing and slicing is possible\n",
    "# Immutable.\n",
    "\n",
    "Academy = (23,\"june\",\"Netzwerk\",\"Banglore\", True, False)\n",
    "BDS = (\"Maths\",\"Python\",\"ML\",\"Tableau\")\n",
    "print(Academy)\n",
    "print(type(Academy))\n",
    "print(type(BDS))"
   ]
  },
  {
   "cell_type": "code",
   "execution_count": 2,
   "id": "2b5a029f",
   "metadata": {},
   "outputs": [
    {
     "data": {
      "text/plain": [
       "6"
      ]
     },
     "execution_count": 2,
     "metadata": {},
     "output_type": "execute_result"
    }
   ],
   "source": [
    "# grab the len() of tuple\n",
    "len(Academy)"
   ]
  },
  {
   "cell_type": "markdown",
   "id": "0c4f8dbc",
   "metadata": {},
   "source": [
    "# Creating a Tuple with one element."
   ]
  },
  {
   "cell_type": "code",
   "execution_count": 3,
   "id": "cf98ceb3",
   "metadata": {},
   "outputs": [
    {
     "data": {
      "text/plain": [
       "str"
      ]
     },
     "execution_count": 3,
     "metadata": {},
     "output_type": "execute_result"
    }
   ],
   "source": [
    "tup1= (\"Netzwerk\")\n",
    "type(tup1)"
   ]
  },
  {
   "cell_type": "code",
   "execution_count": 4,
   "id": "f9da51eb",
   "metadata": {},
   "outputs": [
    {
     "data": {
      "text/plain": [
       "tuple"
      ]
     },
     "execution_count": 4,
     "metadata": {},
     "output_type": "execute_result"
    }
   ],
   "source": [
    "# To create a tuple with one element make use of comma(,) after the value.\n",
    "tup1 = (\"Netzwerk\",)\n",
    "type(tup1)"
   ]
  },
  {
   "cell_type": "code",
   "execution_count": 5,
   "id": "d2995470",
   "metadata": {},
   "outputs": [
    {
     "data": {
      "text/plain": [
       "1"
      ]
     },
     "execution_count": 5,
     "metadata": {},
     "output_type": "execute_result"
    }
   ],
   "source": [
    "len(tup1)"
   ]
  },
  {
   "cell_type": "markdown",
   "id": "3a83ed00",
   "metadata": {},
   "source": [
    "# Indexing and Slicing."
   ]
  },
  {
   "cell_type": "code",
   "execution_count": 6,
   "id": "972be9a0",
   "metadata": {},
   "outputs": [
    {
     "data": {
      "text/plain": [
       "(23, 'june', 'Netzwerk', 'Banglore', True, False)"
      ]
     },
     "execution_count": 6,
     "metadata": {},
     "output_type": "execute_result"
    }
   ],
   "source": [
    "# Indexing :always starts from 0\n",
    "\n",
    "Academy"
   ]
  },
  {
   "cell_type": "code",
   "execution_count": 7,
   "id": "8614c6a1",
   "metadata": {},
   "outputs": [
    {
     "data": {
      "text/plain": [
       "23"
      ]
     },
     "execution_count": 7,
     "metadata": {},
     "output_type": "execute_result"
    }
   ],
   "source": [
    "Academy[0]"
   ]
  },
  {
   "cell_type": "code",
   "execution_count": 8,
   "id": "cd394591",
   "metadata": {},
   "outputs": [
    {
     "data": {
      "text/plain": [
       "'Banglore'"
      ]
     },
     "execution_count": 8,
     "metadata": {},
     "output_type": "execute_result"
    }
   ],
   "source": [
    "Academy[-3]"
   ]
  },
  {
   "cell_type": "code",
   "execution_count": 9,
   "id": "e7045521",
   "metadata": {},
   "outputs": [
    {
     "data": {
      "text/plain": [
       "(23, 'june', 'Netzwerk')"
      ]
     },
     "execution_count": 9,
     "metadata": {},
     "output_type": "execute_result"
    }
   ],
   "source": [
    "# Slicing.\n",
    "\n",
    "# [start:stop:step]\n",
    "\n",
    "# start = starting position (default value is 0)\n",
    "# stop = end position(exclusive) (default value is end position)\n",
    "# step = step size or increment size (default value is 1)\n",
    "\n",
    "\n",
    "\n",
    "\n",
    "# To get first 3 elements\n",
    "\n",
    "Academy[:3]"
   ]
  },
  {
   "cell_type": "code",
   "execution_count": 10,
   "id": "4d26eb2f",
   "metadata": {},
   "outputs": [
    {
     "data": {
      "text/plain": [
       "('Banglore', True, False)"
      ]
     },
     "execution_count": 10,
     "metadata": {},
     "output_type": "execute_result"
    }
   ],
   "source": [
    "# To get last 3 elements\n",
    "Academy[3:]"
   ]
  },
  {
   "cell_type": "code",
   "execution_count": 11,
   "id": "7268d943",
   "metadata": {},
   "outputs": [
    {
     "data": {
      "text/plain": [
       "(23, 'Netzwerk', True)"
      ]
     },
     "execution_count": 11,
     "metadata": {},
     "output_type": "execute_result"
    }
   ],
   "source": [
    "# To get alternate values\\\n",
    "\n",
    "Academy[::2]"
   ]
  },
  {
   "cell_type": "markdown",
   "id": "4d96b72d",
   "metadata": {},
   "source": [
    "# Immutable"
   ]
  },
  {
   "cell_type": "code",
   "execution_count": 12,
   "id": "78bd0fd2",
   "metadata": {},
   "outputs": [
    {
     "ename": "TypeError",
     "evalue": "'tuple' object does not support item assignment",
     "output_type": "error",
     "traceback": [
      "\u001b[1;31m---------------------------------------------------------------------------\u001b[0m",
      "\u001b[1;31mTypeError\u001b[0m                                 Traceback (most recent call last)",
      "\u001b[1;32m<ipython-input-12-0c8d24934b88>\u001b[0m in \u001b[0;36m<module>\u001b[1;34m\u001b[0m\n\u001b[0;32m      3\u001b[0m \u001b[0mAcademy\u001b[0m \u001b[1;33m=\u001b[0m \u001b[1;33m(\u001b[0m\u001b[1;36m23\u001b[0m\u001b[1;33m,\u001b[0m\u001b[1;34m\"june\"\u001b[0m\u001b[1;33m,\u001b[0m\u001b[1;34m\"Netzwerk\"\u001b[0m\u001b[1;33m,\u001b[0m\u001b[1;34m\"Banglore\"\u001b[0m\u001b[1;33m,\u001b[0m \u001b[1;32mTrue\u001b[0m\u001b[1;33m,\u001b[0m \u001b[1;32mFalse\u001b[0m\u001b[1;33m)\u001b[0m\u001b[1;33m\u001b[0m\u001b[1;33m\u001b[0m\u001b[0m\n\u001b[0;32m      4\u001b[0m \u001b[1;33m\u001b[0m\u001b[0m\n\u001b[1;32m----> 5\u001b[1;33m \u001b[0mAcademy\u001b[0m\u001b[1;33m[\u001b[0m\u001b[1;36m3\u001b[0m\u001b[1;33m]\u001b[0m \u001b[1;33m=\u001b[0m \u001b[1;34m\"Hydrabad\"\u001b[0m \u001b[1;31m#Error\u001b[0m\u001b[1;33m\u001b[0m\u001b[1;33m\u001b[0m\u001b[0m\n\u001b[0m",
      "\u001b[1;31mTypeError\u001b[0m: 'tuple' object does not support item assignment"
     ]
    }
   ],
   "source": [
    "# Once the tuple is created you cannot Add, Remove or modify the elements.\n",
    "\n",
    "Academy = (23,\"june\",\"Netzwerk\",\"Banglore\", True, False)\n",
    "\n",
    "Academy[3] = \"Hydrabad\" #Error"
   ]
  },
  {
   "cell_type": "code",
   "execution_count": 13,
   "id": "bd3c7060",
   "metadata": {},
   "outputs": [
    {
     "name": "stdout",
     "output_type": "stream",
     "text": [
      "(67, 75, 55, 80, 89, 99)\n"
     ]
    }
   ],
   "source": [
    "# Add and Remove elements from Tuple.\n",
    "\n",
    "tup=(67,75,55,80,89)\n",
    "\n",
    "lis=list(tup) # converting to list\n",
    "lis.append(99) # adding 99 to list\n",
    "tup2=tuple(lis) # converting back to tuple\n",
    "print(tup2) # displaying new tuple"
   ]
  },
  {
   "cell_type": "code",
   "execution_count": 14,
   "id": "965b69de",
   "metadata": {},
   "outputs": [
    {
     "name": "stdout",
     "output_type": "stream",
     "text": [
      "(67, 75, 80, 89, 99)\n"
     ]
    }
   ],
   "source": [
    "lis2=list(tup2) # convert to lis2\n",
    "lis2.remove(55) # removing 55 from lis2\n",
    "tup3=tuple(lis2) \n",
    "print(tup3)"
   ]
  },
  {
   "cell_type": "code",
   "execution_count": 15,
   "id": "c9df54e6",
   "metadata": {},
   "outputs": [
    {
     "name": "stdout",
     "output_type": "stream",
     "text": [
      "(23, 'june', 'Netzwerk', 'Banglore', True, False, 'Maths', 'Python', 'ML', 'Tableau')\n"
     ]
    }
   ],
   "source": [
    "# Tuple Addition/joining of tuples.\n",
    "\n",
    "#Nothing but tuple concatination\n",
    "\n",
    "Academy = (23,\"june\",\"Netzwerk\",\"Banglore\", True, False)\n",
    "BDS = (\"Maths\",\"Python\",\"ML\",\"Tableau\")\n",
    "\n",
    "tup=Academy + BDS  # only tuples are allowed, other data type isn't allowed\n",
    "\n",
    "print(tup)"
   ]
  },
  {
   "cell_type": "code",
   "execution_count": 16,
   "id": "4e7aae60",
   "metadata": {},
   "outputs": [
    {
     "name": "stdout",
     "output_type": "stream",
     "text": [
      "('Maths', 'Python', 'ML', 'Tableau', 'Maths', 'Python', 'ML', 'Tableau', 'Maths', 'Python', 'ML', 'Tableau')\n"
     ]
    }
   ],
   "source": [
    "# Tuple Multiplication\n",
    "BDS = (\"Maths\",\"Python\",\"ML\",\"Tableau\")\n",
    "BDS1 =BDS*3\n",
    "print(BDS1)"
   ]
  },
  {
   "cell_type": "markdown",
   "id": "e3a833aa",
   "metadata": {},
   "source": [
    "# To check particular value in Tuple."
   ]
  },
  {
   "cell_type": "code",
   "execution_count": 17,
   "id": "5fb908ab",
   "metadata": {},
   "outputs": [
    {
     "name": "stdout",
     "output_type": "stream",
     "text": [
      "True\n"
     ]
    }
   ],
   "source": [
    "Academy\n",
    "print('Banglore' in Academy)"
   ]
  },
  {
   "cell_type": "code",
   "execution_count": null,
   "id": "ec9ca971",
   "metadata": {},
   "outputs": [],
   "source": []
  }
 ],
 "metadata": {
  "kernelspec": {
   "display_name": "Python 3",
   "language": "python",
   "name": "python3"
  },
  "language_info": {
   "codemirror_mode": {
    "name": "ipython",
    "version": 3
   },
   "file_extension": ".py",
   "mimetype": "text/x-python",
   "name": "python",
   "nbconvert_exporter": "python",
   "pygments_lexer": "ipython3",
   "version": "3.8.8"
  }
 },
 "nbformat": 4,
 "nbformat_minor": 5
}
