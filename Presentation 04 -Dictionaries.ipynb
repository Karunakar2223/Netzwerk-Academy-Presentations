{
 "cells": [
  {
   "cell_type": "markdown",
   "id": "e3020fb9",
   "metadata": {},
   "source": [
    "# Dictionaries"
   ]
  },
  {
   "cell_type": "code",
   "execution_count": 1,
   "id": "fafa77f7",
   "metadata": {},
   "outputs": [
    {
     "data": {
      "text/plain": [
       "dict"
      ]
     },
     "execution_count": 1,
     "metadata": {},
     "output_type": "execute_result"
    }
   ],
   "source": [
    "# In python,dictionaries are written with in flower brackets.\n",
    "\n",
    "# It contains keys and values which are seperated by commas.\n",
    "\n",
    "# Can store different datatypes,and order doesn't matter here.\n",
    "\n",
    "# Keys should be Unique, whereas dict are mutable.\n",
    "\n",
    "\n",
    "#Ex:\n",
    "dict1 = {\n",
    "    \"Company\":\"KTM\",\n",
    "    \"model\":\"Duke 200\",\n",
    "    \"year\":2016,\n",
    "    \"cost\":180000\n",
    "}\n",
    "dict1\n",
    "type(dict1)\n"
   ]
  },
  {
   "cell_type": "code",
   "execution_count": 2,
   "id": "be3b04b9",
   "metadata": {},
   "outputs": [
    {
     "data": {
      "text/plain": [
       "4"
      ]
     },
     "execution_count": 2,
     "metadata": {},
     "output_type": "execute_result"
    }
   ],
   "source": [
    "# len() of dict\n",
    "len(dict1)"
   ]
  },
  {
   "cell_type": "code",
   "execution_count": 3,
   "id": "892bee2c",
   "metadata": {},
   "outputs": [
    {
     "data": {
      "text/plain": [
       "'Duke 200'"
      ]
     },
     "execution_count": 3,
     "metadata": {},
     "output_type": "execute_result"
    }
   ],
   "source": [
    "# Accessing items\n",
    "\n",
    "x=dict1[\"model\"]\n",
    "x"
   ]
  },
  {
   "cell_type": "code",
   "execution_count": 4,
   "id": "2ec0fd8f",
   "metadata": {},
   "outputs": [
    {
     "data": {
      "text/plain": [
       "'Duke 200'"
      ]
     },
     "execution_count": 4,
     "metadata": {},
     "output_type": "execute_result"
    }
   ],
   "source": [
    "# get(keyname)\n",
    "\n",
    "x = dict1.get(\"model\")\n",
    "x"
   ]
  },
  {
   "cell_type": "markdown",
   "id": "db0382bd",
   "metadata": {},
   "source": [
    "# Change/Update Values"
   ]
  },
  {
   "cell_type": "code",
   "execution_count": 5,
   "id": "549d5004",
   "metadata": {},
   "outputs": [
    {
     "data": {
      "text/plain": [
       "{'Company': 'KTM', 'model': 'Duke 200', 'year': 2017, 'cost': 180000}"
      ]
     },
     "execution_count": 5,
     "metadata": {},
     "output_type": "execute_result"
    }
   ],
   "source": [
    "#update the year\n",
    "\n",
    "dict1[\"year\"] = 2017\n",
    "dict1"
   ]
  },
  {
   "cell_type": "code",
   "execution_count": 6,
   "id": "e717e1e0",
   "metadata": {},
   "outputs": [
    {
     "name": "stdout",
     "output_type": "stream",
     "text": [
      "['Company', 'model', 'year', 'cost']\n"
     ]
    }
   ],
   "source": [
    "# keys() method to get the keys\n",
    "\n",
    "keys = list(dict1.keys())\n",
    "print(keys)"
   ]
  },
  {
   "cell_type": "code",
   "execution_count": 7,
   "id": "4ae342c5",
   "metadata": {},
   "outputs": [
    {
     "name": "stdout",
     "output_type": "stream",
     "text": [
      "['KTM', 'Duke 200', 2017, 180000]\n"
     ]
    }
   ],
   "source": [
    "# values() method to get the values\n",
    "\n",
    "values = list(dict1.values())\n",
    "print(values)"
   ]
  },
  {
   "cell_type": "code",
   "execution_count": 8,
   "id": "024d4b01",
   "metadata": {},
   "outputs": [
    {
     "data": {
      "text/plain": [
       "[('Company', 'KTM'), ('model', 'Duke 200'), ('year', 2017), ('cost', 180000)]"
      ]
     },
     "execution_count": 8,
     "metadata": {},
     "output_type": "execute_result"
    }
   ],
   "source": [
    "# items() method to get both keys and values\n",
    "\n",
    "items = list(dict1.items())\n",
    "items"
   ]
  },
  {
   "cell_type": "markdown",
   "id": "00c413d5",
   "metadata": {},
   "source": [
    "# Adding items to the existing Dictionary"
   ]
  },
  {
   "cell_type": "code",
   "execution_count": 9,
   "id": "8b1ef004",
   "metadata": {},
   "outputs": [
    {
     "data": {
      "text/plain": [
       "{'Company': 'KTM',\n",
       " 'model': 'Duke 200',\n",
       " 'year': 2017,\n",
       " 'cost': 180000,\n",
       " 'color': 'WhiteOrange'}"
      ]
     },
     "execution_count": 9,
     "metadata": {},
     "output_type": "execute_result"
    }
   ],
   "source": [
    "# add color of the bike\n",
    "dict1[\"color\"] = \"WhiteOrange\"\n",
    "dict1"
   ]
  },
  {
   "cell_type": "code",
   "execution_count": 10,
   "id": "5e627a72",
   "metadata": {},
   "outputs": [
    {
     "data": {
      "text/plain": [
       "{'Company': 'KTM',\n",
       " 'model': 'Duke 200',\n",
       " 'year': 2017,\n",
       " 'cost': 180000,\n",
       " 'color': 'WhiteOrange',\n",
       " 'Tyrename': 'MRF'}"
      ]
     },
     "execution_count": 10,
     "metadata": {},
     "output_type": "execute_result"
    }
   ],
   "source": [
    "# add tyre name\n",
    "\n",
    "dict1[\"Tyrename\"] = \"MRF\"\n",
    "dict1"
   ]
  },
  {
   "cell_type": "markdown",
   "id": "1bbc4a9e",
   "metadata": {},
   "source": [
    "# Removing and Adding items"
   ]
  },
  {
   "cell_type": "code",
   "execution_count": 11,
   "id": "2de5143b",
   "metadata": {},
   "outputs": [
    {
     "name": "stdout",
     "output_type": "stream",
     "text": [
      "\n",
      "{'Company': 'KTM', 'year': 2017, 'cost': 180000, 'color': 'WhiteOrange', 'Tyrename': 'MRF'}\n"
     ]
    }
   ],
   "source": [
    "# .pop(key)\n",
    "\n",
    "t = dict1.pop('model')\n",
    "print()\n",
    "print(dict1)"
   ]
  },
  {
   "cell_type": "code",
   "execution_count": 12,
   "id": "1d7a876a",
   "metadata": {},
   "outputs": [
    {
     "data": {
      "text/plain": [
       "{'Company': 'KTM',\n",
       " 'year': 2017,\n",
       " 'cost': 180000,\n",
       " 'color': 'WhiteOrange',\n",
       " 'Tyrename': 'MRF',\n",
       " 'model': 'Duke 200'}"
      ]
     },
     "execution_count": 12,
     "metadata": {},
     "output_type": "execute_result"
    }
   ],
   "source": [
    "# adding again\n",
    "\n",
    "dict1['model'] = 'Duke 200'\n",
    "dict1"
   ]
  },
  {
   "cell_type": "code",
   "execution_count": 13,
   "id": "31d866fb",
   "metadata": {},
   "outputs": [
    {
     "name": "stdout",
     "output_type": "stream",
     "text": [
      "{'Company': 'KTM', 'year': 2017, 'cost': 180000, 'color': 'WhiteOrange', 'Tyrename': 'MRF', 'model': 'Duke 200'}\n",
      "{'Company': 'KTM', 'year': 2017, 'cost': 180000, 'color': 'WhiteOrange', 'Tyrename': 'MRF'}\n"
     ]
    }
   ],
   "source": [
    "# .popitem() removes the last inserted item.\n",
    "\n",
    "print(dict1)\n",
    "dict1.popitem()\n",
    "print(dict1)"
   ]
  },
  {
   "cell_type": "code",
   "execution_count": 14,
   "id": "995e90fc",
   "metadata": {},
   "outputs": [
    {
     "data": {
      "text/plain": [
       "{}"
      ]
     },
     "execution_count": 14,
     "metadata": {},
     "output_type": "execute_result"
    }
   ],
   "source": [
    "# .clear() method\n",
    "dict1.clear()\n",
    "dict1"
   ]
  },
  {
   "cell_type": "code",
   "execution_count": 15,
   "id": "060a88b0",
   "metadata": {},
   "outputs": [
    {
     "name": "stdout",
     "output_type": "stream",
     "text": [
      "{'Company': 'KTM', 'model': 'Duke 200', 'year': 2016, 'cost': 180000}\n"
     ]
    }
   ],
   "source": [
    "# .copy() method\n",
    "\n",
    "mydict = {\n",
    "    \"Company\":\"KTM\",\n",
    "    \"model\":\"Duke 200\",\n",
    "    \"year\":2016,\n",
    "    \"cost\":180000\n",
    "}\n",
    "\n",
    "dict = mydict.copy()\n",
    "print(dict)"
   ]
  },
  {
   "cell_type": "markdown",
   "id": "d180e829",
   "metadata": {},
   "source": [
    "# Nested Dictionaries"
   ]
  },
  {
   "cell_type": "code",
   "execution_count": 16,
   "id": "de572fce",
   "metadata": {},
   "outputs": [],
   "source": [
    "# Nested is nothing but dict inside a dict.\n",
    "\n",
    "CSK = {\n",
    "  \"name\" : \"Dhoni\",\n",
    "  \"year\" : 2017\n",
    "}\n",
    "GL = {\n",
    "  \"name\" : \"Raina\",\n",
    "  \"year\" : 2017\n",
    "}\n",
    "\n",
    "\n",
    "IPL = {\n",
    "  \"CSK\" : CSK,\n",
    "  \"GL\" : GL\n",
    "}"
   ]
  },
  {
   "cell_type": "code",
   "execution_count": 17,
   "id": "9fe6114d",
   "metadata": {},
   "outputs": [
    {
     "data": {
      "text/plain": [
       "{'CSK': {'name': 'Dhoni', 'year': 2017}, 'GL': {'name': 'Raina', 'year': 2017}}"
      ]
     },
     "execution_count": 17,
     "metadata": {},
     "output_type": "execute_result"
    }
   ],
   "source": [
    "IPL"
   ]
  },
  {
   "cell_type": "code",
   "execution_count": 23,
   "id": "9c15e4b4",
   "metadata": {},
   "outputs": [
    {
     "name": "stdout",
     "output_type": "stream",
     "text": [
      "Mike 80 {'april_batch': {'student': {'name': 'Reddy', 'marks': {'python': 80, 'maths': 70, 'ML': 80, 'DL': 80}}}}\n"
     ]
    }
   ],
   "source": [
    "dict1 = {\n",
    "    \"april_batch\":{\n",
    "        \"student\":{\n",
    "            \"name\":\"Mike\",\n",
    "            \"marks\":{\n",
    "                \"python\":80,\n",
    "                \"maths\":70\n",
    "            }\n",
    "        }\n",
    "    }\n",
    "}\n",
    "\n",
    "# 1.access \"Mike\"\n",
    "# 2.access 80\n",
    "# 3.change \"Mike\" to \"Your name\"\n",
    "# 4.add ML = 80 and Dl = 80\n",
    "\n",
    "k = dict1[\"april_batch\"][\"student\"][\"name\"]\n",
    "l = dict1[\"april_batch\"][\"student\"][\"marks\"][\"python\"]\n",
    "dict1[\"april_batch\"][\"student\"][\"name\"]=\"Reddy\"\n",
    "dict1[\"april_batch\"][\"student\"][\"marks\"][\"ML\"]=80\n",
    "dict1[\"april_batch\"][\"student\"][\"marks\"][\"DL\"]=80\n",
    "print(k,l, dict1)"
   ]
  },
  {
   "cell_type": "code",
   "execution_count": 24,
   "id": "be15e1e6",
   "metadata": {},
   "outputs": [
    {
     "name": "stdout",
     "output_type": "stream",
     "text": [
      "['april_batch']\n"
     ]
    }
   ],
   "source": [
    "keys = list(dict1.keys())\n",
    "print(keys)"
   ]
  },
  {
   "cell_type": "code",
   "execution_count": 25,
   "id": "c20b5be4",
   "metadata": {},
   "outputs": [
    {
     "name": "stdout",
     "output_type": "stream",
     "text": [
      "[{'student': {'name': 'Reddy', 'marks': {'python': 80, 'maths': 70, 'ML': 80, 'DL': 80}}}]\n"
     ]
    }
   ],
   "source": [
    "values = list(dict1.values())\n",
    "print(values)"
   ]
  },
  {
   "cell_type": "code",
   "execution_count": null,
   "id": "5b2029bc",
   "metadata": {},
   "outputs": [],
   "source": []
  }
 ],
 "metadata": {
  "kernelspec": {
   "display_name": "Python 3",
   "language": "python",
   "name": "python3"
  },
  "language_info": {
   "codemirror_mode": {
    "name": "ipython",
    "version": 3
   },
   "file_extension": ".py",
   "mimetype": "text/x-python",
   "name": "python",
   "nbconvert_exporter": "python",
   "pygments_lexer": "ipython3",
   "version": "3.8.8"
  }
 },
 "nbformat": 4,
 "nbformat_minor": 5
}
